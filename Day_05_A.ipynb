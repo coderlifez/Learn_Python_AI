{
  "nbformat": 4,
  "nbformat_minor": 0,
  "metadata": {
    "colab": {
      "provenance": [],
      "authorship_tag": "ABX9TyOegjT7nJievZ2wg9DfPxV9",
      "include_colab_link": true
    },
    "kernelspec": {
      "name": "python3",
      "display_name": "Python 3"
    },
    "language_info": {
      "name": "python"
    }
  },
  "cells": [
    {
      "cell_type": "markdown",
      "metadata": {
        "id": "view-in-github",
        "colab_type": "text"
      },
      "source": [
        "<a href=\"https://colab.research.google.com/github/abhimanyusinghp/Learn_Python_AI/blob/main/Day_05_A.ipynb\" target=\"_parent\"><img src=\"https://colab.research.google.com/assets/colab-badge.svg\" alt=\"Open In Colab\"/></a>"
      ]
    },
    {
      "cell_type": "markdown",
      "source": [
        "# **Creating a List**"
      ],
      "metadata": {
        "id": "fAhlHaBJ4Bqp"
      }
    },
    {
      "cell_type": "code",
      "execution_count": null,
      "metadata": {
        "id": "o0H_Wn-wx-QQ"
      },
      "outputs": [],
      "source": [
        "items = [] # Empty list"
      ]
    },
    {
      "cell_type": "markdown",
      "source": [
        "*   Why this colab notes and jupyter notes are called notes bcz we can write code, text, also do editing of the text, delete it etc.\n",
        "*   Lists we'll discuss here.\n",
        "*   List is created by syntax: list_var_name = []\n",
        "\n",
        "\n",
        "\n",
        "\n",
        "\n"
      ],
      "metadata": {
        "id": "R2S-tl4K3TUT"
      }
    },
    {
      "cell_type": "code",
      "source": [
        "items = [\"speaker\", \"mic\", \"mobile\", \"laptop\"] # Filled list"
      ],
      "metadata": {
        "id": "ftxO3GtP33lx"
      },
      "execution_count": null,
      "outputs": []
    },
    {
      "cell_type": "markdown",
      "source": [
        "# Accessing Elements"
      ],
      "metadata": {
        "id": "QylXcUdY4G4f"
      }
    },
    {
      "cell_type": "code",
      "source": [
        "items[1] # Accessing any item"
      ],
      "metadata": {
        "colab": {
          "base_uri": "https://localhost:8080/",
          "height": 35
        },
        "id": "r474hpRT4M9G",
        "outputId": "49d3a2cf-4869-4d2e-bf13-9c00bd973dc3"
      },
      "execution_count": null,
      "outputs": [
        {
          "output_type": "execute_result",
          "data": {
            "text/plain": [
              "'mic'"
            ],
            "application/vnd.google.colaboratory.intrinsic+json": {
              "type": "string"
            }
          },
          "metadata": {},
          "execution_count": 5
        }
      ]
    },
    {
      "cell_type": "code",
      "source": [
        "items[0] # First item, always 0 index"
      ],
      "metadata": {
        "colab": {
          "base_uri": "https://localhost:8080/",
          "height": 35
        },
        "id": "a3urusXH4wM4",
        "outputId": "0da807f2-c264-4702-e91c-bc39f23b1cc3"
      },
      "execution_count": null,
      "outputs": [
        {
          "output_type": "execute_result",
          "data": {
            "text/plain": [
              "'speaker'"
            ],
            "application/vnd.google.colaboratory.intrinsic+json": {
              "type": "string"
            }
          },
          "metadata": {},
          "execution_count": 7
        }
      ]
    },
    {
      "cell_type": "code",
      "source": [
        "print(items[2]) # Print is used to print the value"
      ],
      "metadata": {
        "colab": {
          "base_uri": "https://localhost:8080/"
        },
        "id": "bxf8-gdg41nv",
        "outputId": "62db1777-af01-4c68-af64-7d400cfc12be"
      },
      "execution_count": null,
      "outputs": [
        {
          "output_type": "stream",
          "name": "stdout",
          "text": [
            "mobile\n"
          ]
        }
      ]
    },
    {
      "cell_type": "markdown",
      "source": [
        "# Negative Indexing"
      ],
      "metadata": {
        "id": "wVzD4Wh65awe"
      }
    },
    {
      "cell_type": "code",
      "source": [
        "items[-1] # Accessing with negative index, get the last element if we have 100s of elements in it"
      ],
      "metadata": {
        "colab": {
          "base_uri": "https://localhost:8080/",
          "height": 35
        },
        "id": "qSX73oeR4k2Q",
        "outputId": "f91a2691-39f4-4ae9-f4f9-a4354de33202"
      },
      "execution_count": null,
      "outputs": [
        {
          "output_type": "execute_result",
          "data": {
            "text/plain": [
              "'laptop'"
            ],
            "application/vnd.google.colaboratory.intrinsic+json": {
              "type": "string"
            }
          },
          "metadata": {},
          "execution_count": 9
        }
      ]
    },
    {
      "cell_type": "markdown",
      "source": [
        "# Slicing a List"
      ],
      "metadata": {
        "id": "wSxKSwe05g0I"
      }
    },
    {
      "cell_type": "code",
      "source": [
        "items[0:2]"
      ],
      "metadata": {
        "colab": {
          "base_uri": "https://localhost:8080/"
        },
        "id": "9A9joYPA5qnJ",
        "outputId": "5879749b-9d00-440d-8c12-81fc416e904b"
      },
      "execution_count": null,
      "outputs": [
        {
          "output_type": "execute_result",
          "data": {
            "text/plain": [
              "['speaker', 'mic']"
            ]
          },
          "metadata": {},
          "execution_count": 11
        }
      ]
    },
    {
      "cell_type": "markdown",
      "source": [
        "*   If i want items from list from certain range like 1st to 3rd, then we use like:\n",
        "```\n",
        "list_var_name[start:end]\n",
        "```\n",
        "So, here the start and end can be any value, can be 0 to 2, 3 to 6, or even negative -3 to -1. Even at times if start 0, we need not mention that, we can directly use like:\n",
        "```\n",
        "list_var_name[:end]\n",
        "```\n",
        "And if we want the end value and start from somewhere in betweeen then we can use like:\n",
        "```\n",
        "list_var_name[start:]\n",
        "```\n",
        "*   If we want all items , we just give:\n",
        "```\n",
        "list_var_name\n",
        "```\n",
        "*   List item\n",
        "*   List item\n",
        "\n",
        "\n",
        "\n",
        "\n"
      ],
      "metadata": {
        "id": "SDCrpXau5sdT"
      }
    },
    {
      "cell_type": "code",
      "source": [
        "items"
      ],
      "metadata": {
        "colab": {
          "base_uri": "https://localhost:8080/"
        },
        "id": "Oy3ZN6L67C9j",
        "outputId": "94558dc9-276f-4095-8feb-4bd864000534"
      },
      "execution_count": null,
      "outputs": [
        {
          "output_type": "execute_result",
          "data": {
            "text/plain": [
              "['speaker', 'mic', 'mobile', 'laptop']"
            ]
          },
          "metadata": {},
          "execution_count": 12
        }
      ]
    },
    {
      "cell_type": "code",
      "source": [
        "items[2:4]"
      ],
      "metadata": {
        "colab": {
          "base_uri": "https://localhost:8080/"
        },
        "id": "mWo8j9vf7Kzk",
        "outputId": "3d4f3579-8308-433b-f9de-8d7e3fad3252"
      },
      "execution_count": null,
      "outputs": [
        {
          "output_type": "execute_result",
          "data": {
            "text/plain": [
              "['mobile', 'laptop']"
            ]
          },
          "metadata": {},
          "execution_count": 13
        }
      ]
    },
    {
      "cell_type": "code",
      "source": [
        "items[:3]"
      ],
      "metadata": {
        "colab": {
          "base_uri": "https://localhost:8080/"
        },
        "id": "5HfPzcz77Kxp",
        "outputId": "51a83b0d-0a03-43b2-ed42-519b33f6c8c6"
      },
      "execution_count": null,
      "outputs": [
        {
          "output_type": "execute_result",
          "data": {
            "text/plain": [
              "['speaker', 'mic', 'mobile']"
            ]
          },
          "metadata": {},
          "execution_count": 14
        }
      ]
    },
    {
      "cell_type": "code",
      "source": [
        "items[1:]"
      ],
      "metadata": {
        "colab": {
          "base_uri": "https://localhost:8080/"
        },
        "id": "LPG95ROs7Kvj",
        "outputId": "fce465c7-3b85-4bf4-94ac-b8027ae17c18"
      },
      "execution_count": null,
      "outputs": [
        {
          "output_type": "execute_result",
          "data": {
            "text/plain": [
              "['mic', 'mobile', 'laptop']"
            ]
          },
          "metadata": {},
          "execution_count": 15
        }
      ]
    },
    {
      "cell_type": "code",
      "source": [
        "items[-3:-2]"
      ],
      "metadata": {
        "colab": {
          "base_uri": "https://localhost:8080/"
        },
        "id": "RM09-wot7Wj9",
        "outputId": "8038215e-89b4-444c-aecd-eca83b8fbcb6"
      },
      "execution_count": null,
      "outputs": [
        {
          "output_type": "execute_result",
          "data": {
            "text/plain": [
              "['mic']"
            ]
          },
          "metadata": {},
          "execution_count": 19
        }
      ]
    },
    {
      "cell_type": "code",
      "source": [
        "items[-3:]"
      ],
      "metadata": {
        "colab": {
          "base_uri": "https://localhost:8080/"
        },
        "id": "pLJf-RF-7iKN",
        "outputId": "63c98e63-4489-49c6-b55c-6046f08a6156"
      },
      "execution_count": null,
      "outputs": [
        {
          "output_type": "execute_result",
          "data": {
            "text/plain": [
              "['mic', 'mobile', 'laptop']"
            ]
          },
          "metadata": {},
          "execution_count": 20
        }
      ]
    },
    {
      "cell_type": "code",
      "source": [
        "items[:-1]"
      ],
      "metadata": {
        "colab": {
          "base_uri": "https://localhost:8080/"
        },
        "id": "B6XEOqTK7kpZ",
        "outputId": "5e2b2176-2d09-499a-fe92-77b393c39372"
      },
      "execution_count": null,
      "outputs": [
        {
          "output_type": "execute_result",
          "data": {
            "text/plain": [
              "['speaker', 'mic', 'mobile']"
            ]
          },
          "metadata": {},
          "execution_count": 21
        }
      ]
    },
    {
      "cell_type": "markdown",
      "source": [
        "# Modifying elements in a List"
      ],
      "metadata": {
        "id": "Wk0OOZGY7nLf"
      }
    },
    {
      "cell_type": "code",
      "source": [
        "items"
      ],
      "metadata": {
        "colab": {
          "base_uri": "https://localhost:8080/"
        },
        "id": "au70s54b7qAf",
        "outputId": "9459a5d5-d500-468b-8043-cf8f26e2df15"
      },
      "execution_count": null,
      "outputs": [
        {
          "output_type": "execute_result",
          "data": {
            "text/plain": [
              "['speaker', 'mic', 'mobile', 'laptop']"
            ]
          },
          "metadata": {},
          "execution_count": 22
        }
      ]
    },
    {
      "cell_type": "code",
      "source": [
        "items[3] = \"pc\""
      ],
      "metadata": {
        "id": "3qz_lnFG7_pi"
      },
      "execution_count": null,
      "outputs": []
    },
    {
      "cell_type": "markdown",
      "source": [
        "*   So here we directly assign to the specific index and it replaces the value."
      ],
      "metadata": {
        "id": "Mhge90XW8Sqb"
      }
    },
    {
      "cell_type": "code",
      "source": [
        "items"
      ],
      "metadata": {
        "colab": {
          "base_uri": "https://localhost:8080/"
        },
        "id": "uE_rGIMX7_nX",
        "outputId": "8b0aeb27-5eb0-4745-b6be-67c3a99f70a2"
      },
      "execution_count": null,
      "outputs": [
        {
          "output_type": "execute_result",
          "data": {
            "text/plain": [
              "['speaker', 'mic', 'mobile', 'pc']"
            ]
          },
          "metadata": {},
          "execution_count": 24
        }
      ]
    },
    {
      "cell_type": "markdown",
      "source": [
        "# Adding elements to List"
      ],
      "metadata": {
        "id": "Jfejl9Oi8d_X"
      }
    },
    {
      "cell_type": "code",
      "source": [
        "items"
      ],
      "metadata": {
        "colab": {
          "base_uri": "https://localhost:8080/"
        },
        "id": "cW6guqS77_lF",
        "outputId": "43441569-7a14-414b-a41c-73260bf4db54"
      },
      "execution_count": null,
      "outputs": [
        {
          "output_type": "execute_result",
          "data": {
            "text/plain": [
              "['speaker', 'mic', 'mobile', 'pc']"
            ]
          },
          "metadata": {},
          "execution_count": 25
        }
      ]
    },
    {
      "cell_type": "code",
      "source": [
        "items.append(\"mouse\")"
      ],
      "metadata": {
        "id": "-j0qHT_v8oDR"
      },
      "execution_count": null,
      "outputs": []
    },
    {
      "cell_type": "markdown",
      "source": [
        "*   We'll use  to add any value to the list.\n",
        "```\n",
        "list_name.append(value)\n",
        "```"
      ],
      "metadata": {
        "id": "xsEhd6138paU"
      }
    },
    {
      "cell_type": "code",
      "source": [
        "items"
      ],
      "metadata": {
        "colab": {
          "base_uri": "https://localhost:8080/"
        },
        "id": "ZDCT1HSp8oBH",
        "outputId": "ba4aa050-5e78-4044-8ac8-af231805a29b"
      },
      "execution_count": null,
      "outputs": [
        {
          "output_type": "execute_result",
          "data": {
            "text/plain": [
              "['speaker', 'mic', 'mobile', 'pc', 'mouse']"
            ]
          },
          "metadata": {},
          "execution_count": 27
        }
      ]
    },
    {
      "cell_type": "code",
      "source": [
        "items.append(\"keyboard\")"
      ],
      "metadata": {
        "id": "QXrjvWHR8n_P"
      },
      "execution_count": null,
      "outputs": []
    },
    {
      "cell_type": "code",
      "source": [
        "items"
      ],
      "metadata": {
        "colab": {
          "base_uri": "https://localhost:8080/"
        },
        "id": "0A8Bq9jq89ZI",
        "outputId": "5da3f5d0-4bf4-4931-c476-d7091d8c9c5e"
      },
      "execution_count": null,
      "outputs": [
        {
          "output_type": "execute_result",
          "data": {
            "text/plain": [
              "['speaker', 'mic', 'mobile', 'pc', 'mouse', 'keyboard']"
            ]
          },
          "metadata": {},
          "execution_count": 29
        }
      ]
    },
    {
      "cell_type": "markdown",
      "source": [
        "# Remove Elements from List"
      ],
      "metadata": {
        "id": "-fuhFxUA9Dud"
      }
    },
    {
      "cell_type": "code",
      "source": [
        "items.remove(\"keyboard\")"
      ],
      "metadata": {
        "id": "1UCJVh2g9G9V"
      },
      "execution_count": null,
      "outputs": []
    },
    {
      "cell_type": "markdown",
      "source": [
        "*   We'll use to remove any value that exists in the list.\n",
        "```\n",
        "list_name.remove(value)\n",
        "```"
      ],
      "metadata": {
        "id": "sux1hi6z9M0p"
      }
    },
    {
      "cell_type": "code",
      "source": [
        "items"
      ],
      "metadata": {
        "colab": {
          "base_uri": "https://localhost:8080/"
        },
        "id": "fDUUBTjf9alC",
        "outputId": "c02b28f7-350a-4293-ab3c-bb2ee4d30fbb"
      },
      "execution_count": null,
      "outputs": [
        {
          "output_type": "execute_result",
          "data": {
            "text/plain": [
              "[]"
            ]
          },
          "metadata": {},
          "execution_count": 40
        }
      ]
    },
    {
      "cell_type": "code",
      "source": [
        "del items[-1]"
      ],
      "metadata": {
        "id": "kGlJ4CmL9jvR"
      },
      "execution_count": null,
      "outputs": []
    },
    {
      "cell_type": "markdown",
      "source": [
        "*   We'll use del function to remove any value that exists in the list.\n",
        "```\n",
        "del list_name[index]\n",
        "```"
      ],
      "metadata": {
        "id": "4ZqMMnpH9nSs"
      }
    },
    {
      "cell_type": "code",
      "source": [
        "items"
      ],
      "metadata": {
        "colab": {
          "base_uri": "https://localhost:8080/"
        },
        "id": "44glZ8GO-Fso",
        "outputId": "d16594b3-4693-4a8f-cbc4-74584c04ddfb"
      },
      "execution_count": null,
      "outputs": [
        {
          "output_type": "execute_result",
          "data": {
            "text/plain": [
              "['speaker', 'mic', 'mobile', 'pc']"
            ]
          },
          "metadata": {},
          "execution_count": 34
        }
      ]
    },
    {
      "cell_type": "code",
      "source": [
        "items.clear()"
      ],
      "metadata": {
        "id": "D4_Aw-6F-UAG"
      },
      "execution_count": null,
      "outputs": []
    },
    {
      "cell_type": "markdown",
      "source": [
        "*   We'll use clear to clear the list.\n",
        "```\n",
        "list_name.clear()\n",
        "```"
      ],
      "metadata": {
        "id": "t-h5N8-M-WgZ"
      }
    },
    {
      "cell_type": "code",
      "source": [
        "items"
      ],
      "metadata": {
        "colab": {
          "base_uri": "https://localhost:8080/"
        },
        "id": "-I3rrwsR-jLc",
        "outputId": "cb6c74f1-879e-416c-d2a1-ba96164b54a7"
      },
      "execution_count": null,
      "outputs": [
        {
          "output_type": "execute_result",
          "data": {
            "text/plain": [
              "[]"
            ]
          },
          "metadata": {},
          "execution_count": 36
        }
      ]
    },
    {
      "cell_type": "markdown",
      "source": [
        "# Checking for existence"
      ],
      "metadata": {
        "id": "Qfbim2ai-liR"
      }
    },
    {
      "cell_type": "code",
      "source": [
        "print(\"speaker\" in items)"
      ],
      "metadata": {
        "colab": {
          "base_uri": "https://localhost:8080/"
        },
        "id": "jQC30JEX-oLN",
        "outputId": "b9bfdee6-edf2-4ebf-f1b5-d258299e24eb"
      },
      "execution_count": null,
      "outputs": [
        {
          "output_type": "stream",
          "name": "stdout",
          "text": [
            "False\n"
          ]
        }
      ]
    },
    {
      "cell_type": "markdown",
      "source": [
        "*   To check if any item is in the list we use:\n",
        "```\n",
        "print(\"value to search\" in list_name)\n",
        "```"
      ],
      "metadata": {
        "id": "tGIQPa_b-rcP"
      }
    },
    {
      "cell_type": "markdown",
      "source": [
        "# Length of a List"
      ],
      "metadata": {
        "id": "PCzxaap7_Deh"
      }
    },
    {
      "cell_type": "code",
      "source": [
        "items = ['speaker', 'mic', 'mobile', 'pc']"
      ],
      "metadata": {
        "id": "seYxavxS_Qgn"
      },
      "execution_count": null,
      "outputs": []
    },
    {
      "cell_type": "code",
      "source": [
        "items"
      ],
      "metadata": {
        "colab": {
          "base_uri": "https://localhost:8080/"
        },
        "id": "hjBUqWPm_fms",
        "outputId": "175537c5-19d3-487e-93a3-8e0d98900451"
      },
      "execution_count": null,
      "outputs": [
        {
          "output_type": "execute_result",
          "data": {
            "text/plain": [
              "['speaker', 'mic', 'mobile', 'pc']"
            ]
          },
          "metadata": {},
          "execution_count": 44
        }
      ]
    },
    {
      "cell_type": "code",
      "source": [
        "len(items)"
      ],
      "metadata": {
        "colab": {
          "base_uri": "https://localhost:8080/"
        },
        "id": "OIrfpJNP-q_0",
        "outputId": "e6a84fd5-0595-4c85-e9db-8643000c212d"
      },
      "execution_count": null,
      "outputs": [
        {
          "output_type": "execute_result",
          "data": {
            "text/plain": [
              "4"
            ]
          },
          "metadata": {},
          "execution_count": 43
        }
      ]
    },
    {
      "cell_type": "markdown",
      "source": [
        "*   To check the length of the list:\n",
        "```\n",
        "len(list_name)\n",
        "```"
      ],
      "metadata": {
        "id": "MmMaYPOR_GJx"
      }
    },
    {
      "cell_type": "markdown",
      "source": [
        "# List comprehension"
      ],
      "metadata": {
        "id": "tPEPLQFG_ky7"
      }
    },
    {
      "cell_type": "code",
      "source": [
        "scores = [70, 20, 40, 50]"
      ],
      "metadata": {
        "id": "5OqI1VTD_v8K"
      },
      "execution_count": null,
      "outputs": []
    },
    {
      "cell_type": "markdown",
      "source": [
        "*   List comprehension means writing Loops in Lists\n",
        "\n"
      ],
      "metadata": {
        "id": "N7lkaUo2_pVD"
      }
    },
    {
      "cell_type": "code",
      "source": [
        "for i in scores:\n",
        "  print(i/2)"
      ],
      "metadata": {
        "colab": {
          "base_uri": "https://localhost:8080/"
        },
        "id": "WLc0M9a5_2VJ",
        "outputId": "a49e1e33-2038-40a8-b3ec-51dff782b4e6"
      },
      "execution_count": null,
      "outputs": [
        {
          "output_type": "stream",
          "name": "stdout",
          "text": [
            "35.0\n",
            "10.0\n",
            "20.0\n",
            "25.0\n"
          ]
        }
      ]
    },
    {
      "cell_type": "markdown",
      "source": [
        "*   This above is without using Lists, to find the half scores."
      ],
      "metadata": {
        "id": "5yn7xDqj_627"
      }
    },
    {
      "cell_type": "code",
      "source": [
        "[i/2 for i in scores]"
      ],
      "metadata": {
        "colab": {
          "base_uri": "https://localhost:8080/"
        },
        "id": "ngM7BSQNACbT",
        "outputId": "9ef5a8a6-04d8-4366-95ba-6d19a7dffb82"
      },
      "execution_count": null,
      "outputs": [
        {
          "output_type": "execute_result",
          "data": {
            "text/plain": [
              "[35.0, 10.0, 20.0, 25.0]"
            ]
          },
          "metadata": {},
          "execution_count": 47
        }
      ]
    },
    {
      "cell_type": "markdown",
      "source": [
        "*   So we directly add the items to list using loop.\n",
        "*   We do it by:\n",
        "```\n",
        "[operation  for variable in list_variable]\n",
        "```"
      ],
      "metadata": {
        "id": "sI8prGqxAFr8"
      }
    }
  ]
}