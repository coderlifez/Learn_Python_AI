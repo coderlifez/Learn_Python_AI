{
  "nbformat": 4,
  "nbformat_minor": 0,
  "metadata": {
    "colab": {
      "provenance": [],
      "authorship_tag": "ABX9TyOH8BpJXBgiqcVkG0XP8wU5",
      "include_colab_link": true
    },
    "kernelspec": {
      "name": "python3",
      "display_name": "Python 3"
    },
    "language_info": {
      "name": "python"
    }
  },
  "cells": [
    {
      "cell_type": "markdown",
      "metadata": {
        "id": "view-in-github",
        "colab_type": "text"
      },
      "source": [
        "<a href=\"https://colab.research.google.com/github/abhimanyusinghp/Learn_Python_AI/blob/main/Day_04_A.ipynb\" target=\"_parent\"><img src=\"https://colab.research.google.com/assets/colab-badge.svg\" alt=\"Open In Colab\"/></a>"
      ]
    },
    {
      "cell_type": "code",
      "execution_count": 5,
      "metadata": {
        "colab": {
          "base_uri": "https://localhost:8080/"
        },
        "id": "NuC5ssnWnaKi",
        "outputId": "357677a3-cb81-45a5-a187-a7b2f48148a9"
      },
      "outputs": [
        {
          "output_type": "stream",
          "name": "stdout",
          "text": [
            "1\n",
            "2\n",
            "3\n",
            "4\n",
            "5\n",
            "6\n",
            "7\n",
            "8\n",
            "9\n"
          ]
        }
      ],
      "source": [
        "for i in range(1,10): # do not include 0\n",
        "  print(i)  # i variable is an iterator"
      ]
    },
    {
      "cell_type": "markdown",
      "source": [
        "*   Loops : For loop, while loop, mostly used is for loop\n",
        "*   Loops means repititive, repeat action\n",
        "*   'for' is a keyword.\n",
        "*   range is also a keyword.\n",
        "*   range() is a function.\n",
        "*   range(start, end),\n",
        "*   where by default start is 0 and end is any value, which is range(end value), end only works till end_value-1 to print, like if end value is 20, it'll only print till 19.\n",
        "*   print() is a funciton.\n",
        "*   instead of printing each number like print(1), print(2),... use for loop and range()\n",
        "*   'in' is like a english word to say this is 'in' that.\n",
        "\n",
        "\n",
        "\n"
      ],
      "metadata": {
        "id": "hTxfKpK6nnNO"
      }
    },
    {
      "cell_type": "code",
      "source": [
        "for i in range(10): # include 0 value\n",
        "  print(i)"
      ],
      "metadata": {
        "colab": {
          "base_uri": "https://localhost:8080/"
        },
        "id": "fYUMZvMUoLeW",
        "outputId": "d8409e5e-8278-4802-f7cf-df2a911e4878"
      },
      "execution_count": 6,
      "outputs": [
        {
          "output_type": "stream",
          "name": "stdout",
          "text": [
            "0\n",
            "1\n",
            "2\n",
            "3\n",
            "4\n",
            "5\n",
            "6\n",
            "7\n",
            "8\n",
            "9\n"
          ]
        }
      ]
    },
    {
      "cell_type": "markdown",
      "source": [
        "*   Now lets try to combine previous days if else code here\n",
        "*   if n/10 -> reminder of 0, lets implement in for loop."
      ],
      "metadata": {
        "id": "OKHhuY3dqt4m"
      }
    },
    {
      "cell_type": "code",
      "source": [
        "100/10 # gives quotient"
      ],
      "metadata": {
        "colab": {
          "base_uri": "https://localhost:8080/"
        },
        "id": "sAyL_hQOqPVn",
        "outputId": "7ef21690-748d-4e6b-bdd4-717f475cac2b"
      },
      "execution_count": 7,
      "outputs": [
        {
          "output_type": "execute_result",
          "data": {
            "text/plain": [
              "10.0"
            ]
          },
          "metadata": {},
          "execution_count": 7
        }
      ]
    },
    {
      "cell_type": "code",
      "source": [
        "100%10 # gives remainder"
      ],
      "metadata": {
        "colab": {
          "base_uri": "https://localhost:8080/"
        },
        "id": "zFO2JPbErJMw",
        "outputId": "bdade4dd-f569-4413-caa8-b22963e07437"
      },
      "execution_count": 8,
      "outputs": [
        {
          "output_type": "execute_result",
          "data": {
            "text/plain": [
              "0"
            ]
          },
          "metadata": {},
          "execution_count": 8
        }
      ]
    },
    {
      "cell_type": "code",
      "source": [
        "103%10 # gives remainder"
      ],
      "metadata": {
        "colab": {
          "base_uri": "https://localhost:8080/"
        },
        "id": "eUK7pDo7rPE6",
        "outputId": "64011900-5269-490c-c21d-434adfc9ded4"
      },
      "execution_count": 9,
      "outputs": [
        {
          "output_type": "execute_result",
          "data": {
            "text/plain": [
              "3"
            ]
          },
          "metadata": {},
          "execution_count": 9
        }
      ]
    },
    {
      "cell_type": "code",
      "source": [
        "num = 70\n",
        "\n",
        "if (num%10 == 0):\n",
        "  print(num,\"Divisible by 10\")\n",
        "else:\n",
        "  print(num,\"Not Divisible by 10\")"
      ],
      "metadata": {
        "colab": {
          "base_uri": "https://localhost:8080/"
        },
        "id": "wrf5pkTtrSj8",
        "outputId": "c90654fb-8170-477f-edd6-8c3fa1bfe553"
      },
      "execution_count": 13,
      "outputs": [
        {
          "output_type": "stream",
          "name": "stdout",
          "text": [
            "70 Divisible by 10\n"
          ]
        }
      ]
    },
    {
      "cell_type": "markdown",
      "source": [
        "*   So this is how we implement if condition to check the divisibility.\n",
        "*   Now lets implement this code in for loop."
      ],
      "metadata": {
        "id": "jOOTu9jKrjnP"
      }
    },
    {
      "cell_type": "code",
      "source": [
        "for i in range(100):\n",
        "  if (i%10 == 0):\n",
        "    print(i,\"Divisible by 10\")"
      ],
      "metadata": {
        "colab": {
          "base_uri": "https://localhost:8080/"
        },
        "id": "mi46TzNTrSiN",
        "outputId": "fcd0b2de-e29e-4689-ff30-a37dcbf0c73f"
      },
      "execution_count": 16,
      "outputs": [
        {
          "output_type": "stream",
          "name": "stdout",
          "text": [
            "0 Divisible by 10\n",
            "10 Divisible by 10\n",
            "20 Divisible by 10\n",
            "30 Divisible by 10\n",
            "40 Divisible by 10\n",
            "50 Divisible by 10\n",
            "60 Divisible by 10\n",
            "70 Divisible by 10\n",
            "80 Divisible by 10\n",
            "90 Divisible by 10\n"
          ]
        }
      ]
    },
    {
      "cell_type": "code",
      "source": [
        "for i in range(100):\n",
        "  if (i%10 == 0):\n",
        "    print(i,\"Divisible by 10\")\n",
        "  else:\n",
        "    print(i,\"Not Divisible\")"
      ],
      "metadata": {
        "colab": {
          "base_uri": "https://localhost:8080/"
        },
        "id": "sSaJlIwHrSfw",
        "outputId": "560a66f2-a27e-4f65-a520-1c5da2390d41"
      },
      "execution_count": 18,
      "outputs": [
        {
          "output_type": "stream",
          "name": "stdout",
          "text": [
            "0 Divisible by 10\n",
            "1 Not Divisible\n",
            "2 Not Divisible\n",
            "3 Not Divisible\n",
            "4 Not Divisible\n",
            "5 Not Divisible\n",
            "6 Not Divisible\n",
            "7 Not Divisible\n",
            "8 Not Divisible\n",
            "9 Not Divisible\n",
            "10 Divisible by 10\n",
            "11 Not Divisible\n",
            "12 Not Divisible\n",
            "13 Not Divisible\n",
            "14 Not Divisible\n",
            "15 Not Divisible\n",
            "16 Not Divisible\n",
            "17 Not Divisible\n",
            "18 Not Divisible\n",
            "19 Not Divisible\n",
            "20 Divisible by 10\n",
            "21 Not Divisible\n",
            "22 Not Divisible\n",
            "23 Not Divisible\n",
            "24 Not Divisible\n",
            "25 Not Divisible\n",
            "26 Not Divisible\n",
            "27 Not Divisible\n",
            "28 Not Divisible\n",
            "29 Not Divisible\n",
            "30 Divisible by 10\n",
            "31 Not Divisible\n",
            "32 Not Divisible\n",
            "33 Not Divisible\n",
            "34 Not Divisible\n",
            "35 Not Divisible\n",
            "36 Not Divisible\n",
            "37 Not Divisible\n",
            "38 Not Divisible\n",
            "39 Not Divisible\n",
            "40 Divisible by 10\n",
            "41 Not Divisible\n",
            "42 Not Divisible\n",
            "43 Not Divisible\n",
            "44 Not Divisible\n",
            "45 Not Divisible\n",
            "46 Not Divisible\n",
            "47 Not Divisible\n",
            "48 Not Divisible\n",
            "49 Not Divisible\n",
            "50 Divisible by 10\n",
            "51 Not Divisible\n",
            "52 Not Divisible\n",
            "53 Not Divisible\n",
            "54 Not Divisible\n",
            "55 Not Divisible\n",
            "56 Not Divisible\n",
            "57 Not Divisible\n",
            "58 Not Divisible\n",
            "59 Not Divisible\n",
            "60 Divisible by 10\n",
            "61 Not Divisible\n",
            "62 Not Divisible\n",
            "63 Not Divisible\n",
            "64 Not Divisible\n",
            "65 Not Divisible\n",
            "66 Not Divisible\n",
            "67 Not Divisible\n",
            "68 Not Divisible\n",
            "69 Not Divisible\n",
            "70 Divisible by 10\n",
            "71 Not Divisible\n",
            "72 Not Divisible\n",
            "73 Not Divisible\n",
            "74 Not Divisible\n",
            "75 Not Divisible\n",
            "76 Not Divisible\n",
            "77 Not Divisible\n",
            "78 Not Divisible\n",
            "79 Not Divisible\n",
            "80 Divisible by 10\n",
            "81 Not Divisible\n",
            "82 Not Divisible\n",
            "83 Not Divisible\n",
            "84 Not Divisible\n",
            "85 Not Divisible\n",
            "86 Not Divisible\n",
            "87 Not Divisible\n",
            "88 Not Divisible\n",
            "89 Not Divisible\n",
            "90 Divisible by 10\n",
            "91 Not Divisible\n",
            "92 Not Divisible\n",
            "93 Not Divisible\n",
            "94 Not Divisible\n",
            "95 Not Divisible\n",
            "96 Not Divisible\n",
            "97 Not Divisible\n",
            "98 Not Divisible\n",
            "99 Not Divisible\n"
          ]
        }
      ]
    }
  ]
}