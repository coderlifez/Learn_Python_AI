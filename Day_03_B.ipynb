{
  "nbformat": 4,
  "nbformat_minor": 0,
  "metadata": {
    "colab": {
      "provenance": [],
      "authorship_tag": "ABX9TyMIKk8gZpNgFOW/6iSuRXtb",
      "include_colab_link": true
    },
    "kernelspec": {
      "name": "python3",
      "display_name": "Python 3"
    },
    "language_info": {
      "name": "python"
    }
  },
  "cells": [
    {
      "cell_type": "markdown",
      "metadata": {
        "id": "view-in-github",
        "colab_type": "text"
      },
      "source": [
        "<a href=\"https://colab.research.google.com/github/abhimanyusinghp/Learn_Python_AI/blob/main/Day_03_B.ipynb\" target=\"_parent\"><img src=\"https://colab.research.google.com/assets/colab-badge.svg\" alt=\"Open In Colab\"/></a>"
      ]
    },
    {
      "cell_type": "code",
      "execution_count": null,
      "metadata": {
        "colab": {
          "base_uri": "https://localhost:8080/"
        },
        "id": "ONF-di59lyA7",
        "outputId": "46cee558-8e71-4632-a91b-1a50929dc78f"
      },
      "outputs": [
        {
          "output_type": "stream",
          "name": "stdout",
          "text": [
            "You are a minor.\n"
          ]
        }
      ],
      "source": [
        "age = 18\n",
        "\n",
        "if age>18:\n",
        "  print (\"You are an adult.\")\n",
        "else:\n",
        "  print (\"You are a minor.\")"
      ]
    },
    {
      "cell_type": "markdown",
      "source": [
        "Prompt this in Gemini AI on right top of colab.\n",
        "\"im learning if else in python can you suggest any basic question for practice.\"\n",
        "\n",
        "It'll give its response, here we got some response like this. And now lets code.\n",
        "\n",
        "\"Great! Practicing with examples is a good way to learn. Here is a basic question for you to practice using if-else statements in Python:\n",
        "\n",
        "Question: Write a Python program that asks the user to enter their age. Based on their age, print a message:\n",
        "\n",
        "If the age is 18 or greater, print \"You are an adult.\"\n",
        "If the age is less than 18, print \"You are a minor.\"\n",
        "\""
      ],
      "metadata": {
        "id": "2r-w7jCclyil"
      }
    }
  ]
}