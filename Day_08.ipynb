{
  "nbformat": 4,
  "nbformat_minor": 0,
  "metadata": {
    "colab": {
      "provenance": [],
      "authorship_tag": "ABX9TyOhF8Psp1EGVw7PVuxtxrRR",
      "include_colab_link": true
    },
    "kernelspec": {
      "name": "python3",
      "display_name": "Python 3"
    },
    "language_info": {
      "name": "python"
    }
  },
  "cells": [
    {
      "cell_type": "markdown",
      "metadata": {
        "id": "view-in-github",
        "colab_type": "text"
      },
      "source": [
        "<a href=\"https://colab.research.google.com/github/coderlifez/Learn_Python_AI/blob/main/Day_08.ipynb\" target=\"_parent\"><img src=\"https://colab.research.google.com/assets/colab-badge.svg\" alt=\"Open In Colab\"/></a>"
      ]
    },
    {
      "cell_type": "code",
      "execution_count": 2,
      "metadata": {
        "id": "sYCP4vYev7Hn"
      },
      "outputs": [],
      "source": [
        "!git config --global user.name \"coderlifez\""
      ]
    },
    {
      "cell_type": "code",
      "source": [
        "!git config --global user.email \"122981857+coderlifez@users.noreply.github.com.\""
      ],
      "metadata": {
        "id": "nCw0tmfn2tVM"
      },
      "execution_count": 3,
      "outputs": []
    },
    {
      "cell_type": "code",
      "source": [],
      "metadata": {
        "id": "c_rKjhef3G1X"
      },
      "execution_count": null,
      "outputs": []
    }
  ]
}