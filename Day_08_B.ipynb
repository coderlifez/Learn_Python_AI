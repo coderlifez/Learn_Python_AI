{
  "nbformat": 4,
  "nbformat_minor": 0,
  "metadata": {
    "colab": {
      "provenance": [],
      "authorship_tag": "ABX9TyNGYzt3vJLgIYv73/0mKJv+",
      "include_colab_link": true
    },
    "kernelspec": {
      "name": "python3",
      "display_name": "Python 3"
    },
    "language_info": {
      "name": "python"
    }
  },
  "cells": [
    {
      "cell_type": "markdown",
      "metadata": {
        "id": "view-in-github",
        "colab_type": "text"
      },
      "source": [
        "<a href=\"https://colab.research.google.com/github/coderlifez/Learn_Python_AI/blob/main/Day_08_B.ipynb\" target=\"_parent\"><img src=\"https://colab.research.google.com/assets/colab-badge.svg\" alt=\"Open In Colab\"/></a>"
      ]
    },
    {
      "cell_type": "markdown",
      "source": [
        "# Functions with AI"
      ],
      "metadata": {
        "id": "QA_M64q0EwZH"
      }
    },
    {
      "cell_type": "markdown",
      "source": [
        "*   As we have used Gemini since long, lets now use the ChatGPT.\n",
        "*   Lets ask something about functions like : can you teach me about python functions, assume im a 10 year old kid, who just started writing python for the last 1 week."
      ],
      "metadata": {
        "id": "-2Ky2_oaFHRY"
      }
    },
    {
      "cell_type": "markdown",
      "source": [
        "\n",
        "\n",
        "*   So this is what we get:\n",
        "*   🐍 What is a function in Python? Think of a function like a magic box.\n",
        "  *   You give the box something (like numbers, words, or nothing).\n",
        "  *   The box does some work.\n",
        "  *   Then the box gives you back an answer.\n",
        "  *   So instead of writing the same code again and again, we make a function and reuse it whenever we want.\n",
        "*   📝 How to make a function: In Python, we make a function using the word def.\n",
        "\n",
        "Example:\n",
        "\n",
        "```\n",
        "def say_hello():\n",
        "    print(\"Hello! 👋\")\n",
        "```\n",
        "    *  def → means we are defining a function.\n",
        "    *  say_hello → is the function’s name.\n",
        "    *  () → are brackets, they can hold inputs.\n",
        "    *  : → means “now the function starts.”\n",
        "    *  Inside (with spaces in front), we write what the function should do.\n",
        "\n",
        "*   🚀 How to use (call) a function:\n",
        "\n",
        "```\n",
        "say_hello()\n",
        "```\n",
        "\n",
        "*   👉 Output:\n",
        "```\n",
        "Hello! 👋\n",
        "```\n",
        "\n",
        "*   🧮 Functions with inputs :\n",
        "\n",
        "  *   We can give our function information (called parameters).\n",
        "\n",
        "```\n",
        "def greet(name):\n",
        "    print(\"Hello\", name, \"! 😀\")\n",
        "```\n",
        "\n",
        "*   When we call:\n",
        "\n",
        "```\n",
        "greet(\"Ravi\")\n",
        "```\n",
        "\n",
        "*   👉 Output:\n",
        "```\n",
        "Hello! 👋\n",
        "```\n",
        "\n",
        "*   🔙 Functions that give back answers\n",
        "\n",
        "  *   Sometimes, instead of just printing, we want the function to return an answer.\n",
        "\n",
        "```\n",
        "def add(a, b):\n",
        "    return a + b\n",
        "```\n",
        "\n",
        "*   When we call:\n",
        "\n",
        "```\n",
        "result = add(5, 7)\n",
        "print(result)\n",
        "```\n",
        "\n",
        "*   👉 Output:\n",
        "```\n",
        "12\n",
        "```\n",
        "\n",
        "*   🌟 Why are functions useful?\n",
        "\t1.\tSave time (write once, use many times).\n",
        "\t2.\tMake code cleaner and shorter.\n",
        "\t3.\tHelp us solve big problems by breaking them into smaller boxes.\n",
        "  "
      ],
      "metadata": {
        "id": "tw7DT9L4FX5M"
      }
    },
    {
      "cell_type": "markdown",
      "source": [
        "*   👉 Quick challenge for you:\n",
        "  *   Can you write a function called square(number) that takes a number and returns its square? (like square(4) should give 16)."
      ],
      "metadata": {
        "id": "3Y3bAyk1Hrn0"
      }
    },
    {
      "cell_type": "code",
      "source": [
        "def square(number):\n",
        "    return number * number\n",
        "\n",
        "square(4)"
      ],
      "metadata": {
        "colab": {
          "base_uri": "https://localhost:8080/"
        },
        "id": "0vwtR2iaHzLk",
        "outputId": "a8efa761-7703-4b49-c9a9-2487f5688357"
      },
      "execution_count": null,
      "outputs": [
        {
          "output_type": "execute_result",
          "data": {
            "text/plain": [
              "16"
            ]
          },
          "metadata": {},
          "execution_count": 1
        }
      ]
    }
  ]
}