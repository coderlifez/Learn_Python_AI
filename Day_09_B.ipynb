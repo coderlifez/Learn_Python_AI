{
  "nbformat": 4,
  "nbformat_minor": 0,
  "metadata": {
    "colab": {
      "provenance": [],
      "authorship_tag": "ABX9TyMUdifnNOBi9fyWsHmv/kBD",
      "include_colab_link": true
    },
    "kernelspec": {
      "name": "python3",
      "display_name": "Python 3"
    },
    "language_info": {
      "name": "python"
    }
  },
  "cells": [
    {
      "cell_type": "markdown",
      "metadata": {
        "id": "view-in-github",
        "colab_type": "text"
      },
      "source": [
        "<a href=\"https://colab.research.google.com/github/coderlifez/Learn_Python_AI/blob/main/Day_09_B.ipynb\" target=\"_parent\"><img src=\"https://colab.research.google.com/assets/colab-badge.svg\" alt=\"Open In Colab\"/></a>"
      ]
    },
    {
      "cell_type": "markdown",
      "source": [
        "# Understanding Functions using AI"
      ],
      "metadata": {
        "id": "56N9EnmCxRBA"
      }
    },
    {
      "cell_type": "markdown",
      "source": [
        "*   Here we can use AI, like ChatGPT to understand some code.\n",
        "*   Let's ask about below code to GPT: I got this below code from teacher in class, im finding difficult to understand whats happening in code, can you explain it and also tell use cases of this global variable, can you help me understand."
      ],
      "metadata": {
        "id": "jeuNeoyAxWVo"
      }
    },
    {
      "cell_type": "code",
      "execution_count": 1,
      "metadata": {
        "colab": {
          "base_uri": "https://localhost:8080/",
          "height": 0
        },
        "id": "zo0SQKGUxAGu",
        "outputId": "9a84f5ae-458d-46c2-aab8-8c65e8ab65e6"
      },
      "outputs": [
        {
          "output_type": "stream",
          "name": "stdout",
          "text": [
            "100\n"
          ]
        }
      ],
      "source": [
        "x = 100   # x is a global variable defined outside the functions.\n",
        "\n",
        "def test(): # Here we do not define x in the function.\n",
        "  global x  # So global x is one way of calling the global variable\n",
        "  print(x)\n",
        "\n",
        "test() # Here we do not pass anything"
      ]
    },
    {
      "cell_type": "markdown",
      "source": [
        "# So this is the explaination GPT would give."
      ],
      "metadata": {
        "id": "hcmHJXAeyS1t"
      }
    },
    {
      "cell_type": "markdown",
      "source": [
        "Got it 👍 Let’s go step by step.\n",
        "\n",
        "Here’s the code you shared:"
      ],
      "metadata": {
        "id": "MFk4gSKKyYz7"
      }
    },
    {
      "cell_type": "code",
      "source": [
        "x = 100   # Global variable\n",
        "\n",
        "def test():\n",
        "    global x   # Declare that we're using the global 'x'\n",
        "    print(x)   # Prints the value of x\n",
        "\n",
        "test()"
      ],
      "metadata": {
        "id": "l2iRWHQtxd7J"
      },
      "execution_count": null,
      "outputs": []
    },
    {
      "cell_type": "markdown",
      "source": [
        "🔎 What’s happening?\n",
        "\t1.\tx = 100\n",
        "\t•\tA variable x is created outside of any function.\n",
        "\t•\tThis makes x a global variable (accessible from anywhere in the file).\n",
        "\t2.\tInside test() function\n",
        "\t•\tglobal x tells Python:\n",
        "👉 “I want to use the x defined outside (global scope), not create a new local variable inside this function.”\n",
        "\t•\tWithout global x, if you tried to assign a value to x inside the function, Python would create a local variable named x, separate from the global one.\n",
        "\t•\tHere, since we only print(x), it fetches 100 from the global scope.\n",
        "\t3.\ttest() call\n",
        "\t•\tWhen you call the function, it prints 100.\n",
        "\n",
        "⸻\n",
        "\n",
        "✅ Key point about global\n",
        "\t•\tglobal is used when you want to modify or directly work with the global variable inside a function.\n",
        "\t•\tIf you just read the global variable (without modifying it), you don’t need global.\n",
        "\n",
        "Example difference:"
      ],
      "metadata": {
        "id": "KehVz-08yc4D"
      }
    },
    {
      "cell_type": "code",
      "source": [
        "x = 100\n",
        "\n",
        "def without_global():\n",
        "    print(x)   # Works fine, just reading global x\n",
        "\n",
        "def with_global():\n",
        "    global x\n",
        "    x = 200    # Modifies global x\n",
        "    print(x)\n",
        "\n",
        "without_global()  # 100\n",
        "with_global()     # 200\n",
        "print(x)          # 200 -> global variable changed"
      ],
      "metadata": {
        "id": "dvmUld6Eyca-"
      },
      "execution_count": null,
      "outputs": []
    },
    {
      "cell_type": "markdown",
      "source": [
        "⚡ Use cases of global variables\n",
        "\n",
        "Although not recommended in most cases (because it makes code harder to debug), global can be useful in:\n",
        "\t1.\tConfiguration values\n",
        "\t•\tExample: a global setting (e.g., debug = True) accessed in many functions.\n",
        "\t2.\tCounters or states across functions\n",
        "\t•\tExample: keeping track of score in a small game."
      ],
      "metadata": {
        "id": "NBZMCPLIylg3"
      }
    },
    {
      "cell_type": "code",
      "source": [
        "score = 0\n",
        "\n",
        "def add_point():\n",
        "    global score\n",
        "    score += 1"
      ],
      "metadata": {
        "id": "d_J7_7acym0V"
      },
      "execution_count": null,
      "outputs": []
    },
    {
      "cell_type": "markdown",
      "source": [
        "3.\tQuick scripts or prototypes\n",
        "\t•\tWhen writing small programs where creating classes or passing variables around feels too heavy.\n",
        "\n",
        "⸻\n",
        "\n",
        "🚨 But best practice in large programs → avoid global, instead pass variables as function arguments, or use classes to manage state."
      ],
      "metadata": {
        "id": "mvF57eqMypoK"
      }
    }
  ]
}