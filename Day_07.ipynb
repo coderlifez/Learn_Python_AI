{
  "nbformat": 4,
  "nbformat_minor": 0,
  "metadata": {
    "colab": {
      "provenance": [],
      "authorship_tag": "ABX9TyOpSjczA6M0yuFx4rwLTIc5",
      "include_colab_link": true
    },
    "kernelspec": {
      "name": "python3",
      "display_name": "Python 3"
    },
    "language_info": {
      "name": "python"
    }
  },
  "cells": [
    {
      "cell_type": "markdown",
      "metadata": {
        "id": "view-in-github",
        "colab_type": "text"
      },
      "source": [
        "<a href=\"https://colab.research.google.com/github/abhimanyusinghp/Learn_Python_AI/blob/main/Day_07.ipynb\" target=\"_parent\"><img src=\"https://colab.research.google.com/assets/colab-badge.svg\" alt=\"Open In Colab\"/></a>"
      ]
    },
    {
      "cell_type": "markdown",
      "source": [
        "# Assignment :\n",
        "\n",
        "*   At the start of the day you have a checklist:\n",
        "  *   the tasks which you were able to finish, should get added to\n",
        "completed_tasks\n",
        "  *   the tasks which you were not able to finish, should get added to incomplete_tasks.\n",
        "*   This project is about organizing your daily tasks into two\n",
        "categories: completed tasks and incomplete tasks.\n",
        "*   Here’s how it works:\n",
        "1. At the start of the day, you create a checklist of tasks you want to accomplish.\n",
        "2. At the end of the day, you review which tasks you could finish and which you couldn’t.\n",
        "  *   If a task is finished, you move it to the completed tasks list.\n",
        "  *   If a task is not finished, you move it to the incomplete tasks list.\n",
        "*   This way, by the end of each day, you’ll have a clear overview of what you completed and what still needs attention.\n",
        "\n",
        "\n"
      ],
      "metadata": {
        "id": "_uXgW0oPrU73"
      }
    },
    {
      "cell_type": "code",
      "execution_count": 6,
      "metadata": {
        "colab": {
          "base_uri": "https://localhost:8080/",
          "height": 0
        },
        "id": "Ohk7MvagrRHl",
        "outputId": "d2def18e-17c8-413c-bb98-c4dc41783a4a"
      },
      "outputs": [
        {
          "output_type": "stream",
          "name": "stdout",
          "text": [
            "brush\n",
            "bath\n",
            "walk\n",
            "code\n",
            "shop\n",
            "['brush', 'bath', 'code']\n",
            "['walk', 'shop']\n"
          ]
        }
      ],
      "source": [
        "checklist = [\"brush\",\"bath\",\"walk\",\"code\",\"shop\"]\n",
        "completed_tasks = []\n",
        "incomplete_tasks = []\n",
        "\n",
        "for task in checklist:\n",
        "  print(task)\n",
        "  if task in [\"brush\", \"bath\", \"code\"]:\n",
        "    completed_tasks.append(task)\n",
        "  else:\n",
        "    incomplete_tasks.append(task)\n",
        "\n",
        "print(completed_tasks)\n",
        "print(incomplete_tasks)"
      ]
    },
    {
      "cell_type": "markdown",
      "source": [],
      "metadata": {
        "id": "Y1ks4woSuVT1"
      }
    }
  ]
}