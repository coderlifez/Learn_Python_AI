{
  "nbformat": 4,
  "nbformat_minor": 0,
  "metadata": {
    "colab": {
      "provenance": [],
      "include_colab_link": true
    },
    "kernelspec": {
      "name": "python3",
      "display_name": "Python 3"
    },
    "language_info": {
      "name": "python"
    }
  },
  "cells": [
    {
      "cell_type": "markdown",
      "metadata": {
        "id": "view-in-github",
        "colab_type": "text"
      },
      "source": [
        "<a href=\"https://colab.research.google.com/github/coderlifez/Learn_Python_AI/blob/main/Day_09_A.ipynb\" target=\"_parent\"><img src=\"https://colab.research.google.com/assets/colab-badge.svg\" alt=\"Open In Colab\"/></a>"
      ]
    },
    {
      "cell_type": "markdown",
      "source": [
        "# Functions Part 2"
      ],
      "metadata": {
        "id": "OKyVd3viXgGs"
      }
    },
    {
      "cell_type": "markdown",
      "source": [
        "# 5. Default Params / Parameters"
      ],
      "metadata": {
        "id": "FV3TUvgkXB77"
      }
    },
    {
      "cell_type": "markdown",
      "source": [
        "*   We see we need to pass some parameter values if we put any argument in function. If we do not pass anything, it will give error.\n",
        "*   So what we do is we assign a default value to the parameter in function, such that if nothing is passed on calling, then the default value is taken. Lets see how."
      ],
      "metadata": {
        "id": "ytOwYs3pXpJG"
      }
    },
    {
      "cell_type": "code",
      "execution_count": null,
      "metadata": {
        "id": "eYD5pf49Kn8B"
      },
      "outputs": [],
      "source": [
        "def hello(name):\n",
        "  print(f\"Hello {name}\")"
      ]
    },
    {
      "cell_type": "markdown",
      "source": [
        "*   This is without any default parameter value."
      ],
      "metadata": {
        "id": "NPkBO7tEYMu7"
      }
    },
    {
      "cell_type": "code",
      "source": [
        "hello(\"Ravi\")"
      ],
      "metadata": {
        "colab": {
          "base_uri": "https://localhost:8080/"
        },
        "id": "Xalkfq_3YUsY",
        "outputId": "443fa120-a540-4da5-8421-657106cfe540"
      },
      "execution_count": null,
      "outputs": [
        {
          "output_type": "stream",
          "name": "stdout",
          "text": [
            "Hello Ravi\n"
          ]
        }
      ]
    },
    {
      "cell_type": "code",
      "source": [
        "def hello(name=\"Guest\"):\n",
        "  print(f\"Hello {name}\")"
      ],
      "metadata": {
        "id": "lyklh8twYXys"
      },
      "execution_count": null,
      "outputs": []
    },
    {
      "cell_type": "markdown",
      "source": [
        "*   So here we see to the parameter/argument name, we assigned a value which is Guest, so like this we can assign anything to a parameter.\n",
        "*   So if we do not pass any value, the default value will be taken into consideration. Lets see how."
      ],
      "metadata": {
        "id": "wNh-6m2qYfwr"
      }
    },
    {
      "cell_type": "code",
      "source": [
        "hello(\"Ravi Kumar\")"
      ],
      "metadata": {
        "colab": {
          "base_uri": "https://localhost:8080/"
        },
        "id": "JEecXG1gYfYJ",
        "outputId": "df1f85bb-45f3-49a3-c2bf-216d66f173a1"
      },
      "execution_count": null,
      "outputs": [
        {
          "output_type": "stream",
          "name": "stdout",
          "text": [
            "Hello Ravi Kumar\n"
          ]
        }
      ]
    },
    {
      "cell_type": "code",
      "source": [
        "hello()"
      ],
      "metadata": {
        "colab": {
          "base_uri": "https://localhost:8080/"
        },
        "id": "ipeG1eyuY0tw",
        "outputId": "c1d338cd-b17f-4f3c-9a66-b422c6146729"
      },
      "execution_count": null,
      "outputs": [
        {
          "output_type": "stream",
          "name": "stdout",
          "text": [
            "Hello Guest\n"
          ]
        }
      ]
    },
    {
      "cell_type": "markdown",
      "source": [
        "*   So here we called once passing the parameter value, so at that time, what is passed is taken.\n",
        "*   Next, we didn't pass anything, and then the default value Guest was taken."
      ],
      "metadata": {
        "id": "Lwk1ZrPRY2kC"
      }
    },
    {
      "cell_type": "markdown",
      "source": [
        "#  6. Keyword Arguments"
      ],
      "metadata": {
        "id": "1lrDD71QZTKU"
      }
    },
    {
      "cell_type": "markdown",
      "source": [
        "*   The once in side the functions are called keyword arguments, like below we see x and y which are given in function brackets."
      ],
      "metadata": {
        "id": "tIbNakEXZg4R"
      }
    },
    {
      "cell_type": "code",
      "source": [
        "# add 2 numbers\n",
        "def add_numbers(x=10,y=20):\n",
        "  return x+y"
      ],
      "metadata": {
        "id": "rNeADOrjaORS"
      },
      "execution_count": null,
      "outputs": []
    },
    {
      "cell_type": "code",
      "source": [
        "add_numbers()"
      ],
      "metadata": {
        "colab": {
          "base_uri": "https://localhost:8080/"
        },
        "id": "SFlEkyVIaYN1",
        "outputId": "1263c8c1-aea9-49ab-927a-d4eb7307b45b"
      },
      "execution_count": null,
      "outputs": [
        {
          "output_type": "execute_result",
          "data": {
            "text/plain": [
              "30"
            ]
          },
          "metadata": {},
          "execution_count": 13
        }
      ]
    },
    {
      "cell_type": "markdown",
      "source": [
        "# 7. Scope and Global variables"
      ],
      "metadata": {
        "id": "dEHuQVoKaj4s"
      }
    },
    {
      "cell_type": "markdown",
      "source": [
        "*   This is interview questions"
      ],
      "metadata": {
        "id": "iZBjwwYuap6X"
      }
    },
    {
      "cell_type": "code",
      "source": [
        "def test(x=10): # x is a local variable\n",
        "  print(x)"
      ],
      "metadata": {
        "id": "WaguaeB4a2Bb"
      },
      "execution_count": null,
      "outputs": []
    },
    {
      "cell_type": "markdown",
      "source": [
        "*   Here x is a local variable and its scope is within the function and it cant be accessed outside the function."
      ],
      "metadata": {
        "id": "9CcWzAwOb7QR"
      }
    },
    {
      "cell_type": "code",
      "source": [
        "test()"
      ],
      "metadata": {
        "colab": {
          "base_uri": "https://localhost:8080/"
        },
        "id": "7QA0N0DUcQ5P",
        "outputId": "9873148b-d247-4a4d-af36-1f5b916c604e"
      },
      "execution_count": null,
      "outputs": [
        {
          "output_type": "stream",
          "name": "stdout",
          "text": [
            "10\n"
          ]
        }
      ]
    },
    {
      "cell_type": "code",
      "source": [
        "test(11)"
      ],
      "metadata": {
        "colab": {
          "base_uri": "https://localhost:8080/"
        },
        "id": "dIuaqca_cTtZ",
        "outputId": "e62d4521-6c6f-4d29-d3e1-68174a9644d2"
      },
      "execution_count": null,
      "outputs": [
        {
          "output_type": "stream",
          "name": "stdout",
          "text": [
            "11\n"
          ]
        }
      ]
    },
    {
      "cell_type": "code",
      "source": [
        "x = 100   # x is a global variable defined outside the functions.\n",
        "\n",
        "def test():\n",
        "  print(x)\n",
        "\n",
        "test()"
      ],
      "metadata": {
        "colab": {
          "base_uri": "https://localhost:8080/"
        },
        "id": "Xq8Xj6cOcZLM",
        "outputId": "b4570a24-b385-4368-ba10-ccee423e9e56"
      },
      "execution_count": null,
      "outputs": [
        {
          "output_type": "stream",
          "name": "stdout",
          "text": [
            "100\n"
          ]
        }
      ]
    },
    {
      "cell_type": "markdown",
      "source": [
        "*   So in above case x is a global variable and can be accessed anywhere across the file. Here we accessed it in the function.\n",
        "*   So its scope is all over, can be called anywhere.\n",
        "*   These are mostly defined outside the functions.\n",
        "*   Another way to call it is by saying:\n",
        "```\n",
        "global variable_name\n",
        "```"
      ],
      "metadata": {
        "id": "cOadCfVCchs_"
      }
    },
    {
      "cell_type": "code",
      "source": [
        "x = 100   # x is a global variable defined outside the functions.\n",
        "\n",
        "def test(x):\n",
        "  global x\n",
        "  print(x)\n",
        "\n",
        "test(10)"
      ],
      "metadata": {
        "colab": {
          "base_uri": "https://localhost:8080/",
          "height": 106
        },
        "id": "9hIpZ7kRdd3K",
        "outputId": "388f78c6-bc8b-4fa0-8b0a-aeb6bc96e621"
      },
      "execution_count": null,
      "outputs": [
        {
          "output_type": "error",
          "ename": "SyntaxError",
          "evalue": "name 'x' is parameter and global (ipython-input-1475557362.py, line 4)",
          "traceback": [
            "\u001b[0;36m  File \u001b[0;32m\"/tmp/ipython-input-1475557362.py\"\u001b[0;36m, line \u001b[0;32m4\u001b[0m\n\u001b[0;31m    global x\u001b[0m\n\u001b[0m    ^\u001b[0m\n\u001b[0;31mSyntaxError\u001b[0m\u001b[0;31m:\u001b[0m name 'x' is parameter and global\n"
          ]
        }
      ]
    },
    {
      "cell_type": "markdown",
      "source": [
        "*   So we cannot declare the global variable into parameter and global variable at a time, it can be either of one."
      ],
      "metadata": {
        "id": "dtuTWgfSd3Fh"
      }
    },
    {
      "cell_type": "code",
      "source": [
        "x = 100   # x is a global variable defined outside the functions.\n",
        "\n",
        "def test(x):\n",
        "  print(x)\n",
        "\n",
        "test()"
      ],
      "metadata": {
        "colab": {
          "base_uri": "https://localhost:8080/",
          "height": 176
        },
        "id": "9b7xZWMPeEOz",
        "outputId": "4854fd25-58d6-4229-8448-b6762bb9f8e0"
      },
      "execution_count": null,
      "outputs": [
        {
          "output_type": "error",
          "ename": "TypeError",
          "evalue": "test() missing 1 required positional argument: 'x'",
          "traceback": [
            "\u001b[0;31m---------------------------------------------------------------------------\u001b[0m",
            "\u001b[0;31mTypeError\u001b[0m                                 Traceback (most recent call last)",
            "\u001b[0;32m/tmp/ipython-input-593474453.py\u001b[0m in \u001b[0;36m<cell line: 0>\u001b[0;34m()\u001b[0m\n\u001b[1;32m      4\u001b[0m   \u001b[0mprint\u001b[0m\u001b[0;34m(\u001b[0m\u001b[0mx\u001b[0m\u001b[0;34m)\u001b[0m\u001b[0;34m\u001b[0m\u001b[0;34m\u001b[0m\u001b[0m\n\u001b[1;32m      5\u001b[0m \u001b[0;34m\u001b[0m\u001b[0m\n\u001b[0;32m----> 6\u001b[0;31m \u001b[0mtest\u001b[0m\u001b[0;34m(\u001b[0m\u001b[0;34m)\u001b[0m\u001b[0;34m\u001b[0m\u001b[0;34m\u001b[0m\u001b[0m\n\u001b[0m",
            "\u001b[0;31mTypeError\u001b[0m: test() missing 1 required positional argument: 'x'"
          ]
        }
      ]
    },
    {
      "cell_type": "markdown",
      "source": [
        "*   So here if you see we have declared the x as global variable outside the function, while we also declared it as a parameter argument in the function, but not inside the statements.\n",
        "*   Then, we surely need to pass any value to the parameter as in the function its a local variable.\n",
        "\n"
      ],
      "metadata": {
        "id": "jBK8Z6V-eJQz"
      }
    },
    {
      "cell_type": "code",
      "source": [
        "x = 100   # x is a global variable defined outside the functions.\n",
        "\n",
        "def test(x):\n",
        "  print(x)\n",
        "\n",
        "test(x)\n",
        "test(10)"
      ],
      "metadata": {
        "colab": {
          "base_uri": "https://localhost:8080/"
        },
        "id": "R8pPiz2Tegu3",
        "outputId": "e3ed054c-ef39-4b49-920f-6f64bd3ced5a"
      },
      "execution_count": null,
      "outputs": [
        {
          "output_type": "stream",
          "name": "stdout",
          "text": [
            "100\n",
            "10\n"
          ]
        }
      ]
    },
    {
      "cell_type": "markdown",
      "source": [
        "*   Here we see if we pass any value, then only it words out."
      ],
      "metadata": {
        "id": "Wl76Gd49ejno"
      }
    },
    {
      "cell_type": "code",
      "source": [
        "x = 100   # x is a global variable defined outside the functions.\n",
        "\n",
        "def test(y):\n",
        "  print(x,y)\n",
        "\n",
        "test(20)\n",
        "test(10)"
      ],
      "metadata": {
        "colab": {
          "base_uri": "https://localhost:8080/"
        },
        "id": "JwPzTUIFezHC",
        "outputId": "213e7635-ab67-4196-f69c-d189615f8221"
      },
      "execution_count": null,
      "outputs": [
        {
          "output_type": "stream",
          "name": "stdout",
          "text": [
            "100 20\n",
            "100 10\n"
          ]
        }
      ]
    },
    {
      "cell_type": "markdown",
      "source": [
        "*   Here if you see we have kept x as it is in print, while we pass another parameter. so both the times for x, we get the default global value."
      ],
      "metadata": {
        "id": "XFadpWI6fJz3"
      }
    },
    {
      "cell_type": "code",
      "source": [
        "n = 23\n",
        "\n",
        "def test(n):\n",
        "  n = 21\n",
        "  print(n)\n",
        "\n",
        "test()"
      ],
      "metadata": {
        "colab": {
          "base_uri": "https://localhost:8080/",
          "height": 176
        },
        "id": "6QGM6wupfZxg",
        "outputId": "feb79807-f2af-4058-88bf-eb342d2092ee"
      },
      "execution_count": null,
      "outputs": [
        {
          "output_type": "error",
          "ename": "TypeError",
          "evalue": "test() missing 1 required positional argument: 'n'",
          "traceback": [
            "\u001b[0;31m---------------------------------------------------------------------------\u001b[0m",
            "\u001b[0;31mTypeError\u001b[0m                                 Traceback (most recent call last)",
            "\u001b[0;32m/tmp/ipython-input-1225501269.py\u001b[0m in \u001b[0;36m<cell line: 0>\u001b[0;34m()\u001b[0m\n\u001b[1;32m      5\u001b[0m   \u001b[0mprint\u001b[0m\u001b[0;34m(\u001b[0m\u001b[0mn\u001b[0m\u001b[0;34m)\u001b[0m\u001b[0;34m\u001b[0m\u001b[0;34m\u001b[0m\u001b[0m\n\u001b[1;32m      6\u001b[0m \u001b[0;34m\u001b[0m\u001b[0m\n\u001b[0;32m----> 7\u001b[0;31m \u001b[0mtest\u001b[0m\u001b[0;34m(\u001b[0m\u001b[0;34m)\u001b[0m\u001b[0;34m\u001b[0m\u001b[0;34m\u001b[0m\u001b[0m\n\u001b[0m",
            "\u001b[0;31mTypeError\u001b[0m: test() missing 1 required positional argument: 'n'"
          ]
        }
      ]
    },
    {
      "cell_type": "markdown",
      "source": [
        "*   This is a tricky question, we have a global variable n, while we also have parameter argument n, while also we assigned the local vairable n = 21. While we ain't pass anything.\n",
        "*   So as we discussed above, local varaible is local, if parameter is declared, then surely we need to pass some value, else we get error.\n",
        "\n"
      ],
      "metadata": {
        "id": "bmipaFn4fjnf"
      }
    },
    {
      "cell_type": "code",
      "source": [
        "n = 23\n",
        "\n",
        "def test(n):\n",
        "  n = 21\n",
        "  print(n)\n",
        "\n",
        "test(18)"
      ],
      "metadata": {
        "colab": {
          "base_uri": "https://localhost:8080/"
        },
        "id": "LoLCs3KJf7O4",
        "outputId": "606d8fdf-3526-492b-a8de-fcdf787eb421"
      },
      "execution_count": null,
      "outputs": [
        {
          "output_type": "stream",
          "name": "stdout",
          "text": [
            "21\n"
          ]
        }
      ]
    },
    {
      "cell_type": "markdown",
      "source": [
        "*   Do you see now, we have global value 23, local value 21, while to the parameter we passed 18, while we got 21. Why?\n",
        "*   Because the print statement is declared after n is declared as 21. So basically the 21 will get printed right.\n",
        "*   Next will see if print is before 21 declaration, then what happens?"
      ],
      "metadata": {
        "id": "tRSvt26pgAUF"
      }
    },
    {
      "cell_type": "code",
      "source": [
        "n = 23\n",
        "\n",
        "def test(n):\n",
        "  print(n)\n",
        "  n = 21\n",
        "  print(n)\n",
        "\n",
        "test(18)"
      ],
      "metadata": {
        "colab": {
          "base_uri": "https://localhost:8080/"
        },
        "id": "7bLcr5SJgxYb",
        "outputId": "e21dd64f-5568-4483-816e-b6ef05c4fa1c"
      },
      "execution_count": null,
      "outputs": [
        {
          "output_type": "stream",
          "name": "stdout",
          "text": [
            "18\n",
            "21\n"
          ]
        }
      ]
    },
    {
      "cell_type": "markdown",
      "source": [
        "*   As you see what we passed has come up here, then the 21 local ones is printed."
      ],
      "metadata": {
        "id": "MyP8vazbhCZa"
      }
    },
    {
      "cell_type": "code",
      "source": [
        "n = 23\n",
        "\n",
        "def test(m):\n",
        "  global n\n",
        "  print(n)\n",
        "  n = 21\n",
        "  print(n)\n",
        "  print(m)\n",
        "\n",
        "test(18)"
      ],
      "metadata": {
        "colab": {
          "base_uri": "https://localhost:8080/"
        },
        "id": "aVcZ99VShLNr",
        "outputId": "e5585a02-3c32-4cc8-a402-f046f1b45015"
      },
      "execution_count": null,
      "outputs": [
        {
          "output_type": "stream",
          "name": "stdout",
          "text": [
            "23\n",
            "21\n",
            "18\n"
          ]
        }
      ]
    },
    {
      "cell_type": "markdown",
      "source": [
        "*   Here we see we declared different variable m in function argument, then we called global n inside the function, and hence accoring we got the result.\n",
        "*   If we do not say global n, it will give error that it cant access the local variable, we declared one variable in the code.\n",
        "\n"
      ],
      "metadata": {
        "id": "4MxCpnDehYV5"
      }
    },
    {
      "cell_type": "code",
      "source": [],
      "metadata": {
        "id": "HN33IKm0iAD2"
      },
      "execution_count": null,
      "outputs": []
    },
    {
      "cell_type": "code",
      "source": [
        "n = 23\n",
        "\n",
        "def test(m):\n",
        "  print(n)\n",
        "  n = 21\n",
        "  print(n)\n",
        "  print(m)\n",
        "\n",
        "test(18)"
      ],
      "metadata": {
        "colab": {
          "base_uri": "https://localhost:8080/",
          "height": 297
        },
        "id": "tH0Vamp-huIW",
        "outputId": "67139175-9e6c-4ebe-af27-86732430029b"
      },
      "execution_count": null,
      "outputs": [
        {
          "output_type": "error",
          "ename": "UnboundLocalError",
          "evalue": "cannot access local variable 'n' where it is not associated with a value",
          "traceback": [
            "\u001b[0;31m---------------------------------------------------------------------------\u001b[0m",
            "\u001b[0;31mUnboundLocalError\u001b[0m                         Traceback (most recent call last)",
            "\u001b[0;32m/tmp/ipython-input-1843235084.py\u001b[0m in \u001b[0;36m<cell line: 0>\u001b[0;34m()\u001b[0m\n\u001b[1;32m      7\u001b[0m   \u001b[0mprint\u001b[0m\u001b[0;34m(\u001b[0m\u001b[0mm\u001b[0m\u001b[0;34m)\u001b[0m\u001b[0;34m\u001b[0m\u001b[0;34m\u001b[0m\u001b[0m\n\u001b[1;32m      8\u001b[0m \u001b[0;34m\u001b[0m\u001b[0m\n\u001b[0;32m----> 9\u001b[0;31m \u001b[0mtest\u001b[0m\u001b[0;34m(\u001b[0m\u001b[0;36m18\u001b[0m\u001b[0;34m)\u001b[0m\u001b[0;34m\u001b[0m\u001b[0;34m\u001b[0m\u001b[0m\n\u001b[0m",
            "\u001b[0;32m/tmp/ipython-input-1843235084.py\u001b[0m in \u001b[0;36mtest\u001b[0;34m(m)\u001b[0m\n\u001b[1;32m      2\u001b[0m \u001b[0;34m\u001b[0m\u001b[0m\n\u001b[1;32m      3\u001b[0m \u001b[0;32mdef\u001b[0m \u001b[0mtest\u001b[0m\u001b[0;34m(\u001b[0m\u001b[0mm\u001b[0m\u001b[0;34m)\u001b[0m\u001b[0;34m:\u001b[0m\u001b[0;34m\u001b[0m\u001b[0;34m\u001b[0m\u001b[0m\n\u001b[0;32m----> 4\u001b[0;31m   \u001b[0mprint\u001b[0m\u001b[0;34m(\u001b[0m\u001b[0mn\u001b[0m\u001b[0;34m)\u001b[0m\u001b[0;34m\u001b[0m\u001b[0;34m\u001b[0m\u001b[0m\n\u001b[0m\u001b[1;32m      5\u001b[0m   \u001b[0mn\u001b[0m \u001b[0;34m=\u001b[0m \u001b[0;36m21\u001b[0m\u001b[0;34m\u001b[0m\u001b[0;34m\u001b[0m\u001b[0m\n\u001b[1;32m      6\u001b[0m   \u001b[0mprint\u001b[0m\u001b[0;34m(\u001b[0m\u001b[0mn\u001b[0m\u001b[0;34m)\u001b[0m\u001b[0;34m\u001b[0m\u001b[0;34m\u001b[0m\u001b[0m\n",
            "\u001b[0;31mUnboundLocalError\u001b[0m: cannot access local variable 'n' where it is not associated with a value"
          ]
        }
      ]
    },
    {
      "cell_type": "markdown",
      "source": [
        "*   While if we do not declare a local variable with same name inside the function, then directly the global variable is called and we need not declare global n."
      ],
      "metadata": {
        "id": "qHHZ1NSwiGh_"
      }
    },
    {
      "cell_type": "code",
      "source": [
        "n = 23\n",
        "\n",
        "def test(m):\n",
        "  print(n)\n",
        "  print(m)\n",
        "\n",
        "test(18)"
      ],
      "metadata": {
        "colab": {
          "base_uri": "https://localhost:8080/"
        },
        "id": "HMyoXcAziJ5M",
        "outputId": "c42b13d7-55f9-4d95-b80f-2a81548a5018"
      },
      "execution_count": null,
      "outputs": [
        {
          "output_type": "stream",
          "name": "stdout",
          "text": [
            "23\n",
            "18\n"
          ]
        }
      ]
    }
  ]
}