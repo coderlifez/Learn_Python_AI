{
  "nbformat": 4,
  "nbformat_minor": 0,
  "metadata": {
    "colab": {
      "provenance": [],
      "authorship_tag": "ABX9TyOZEqQ7HNNbGlr2zsukgmlI",
      "include_colab_link": true
    },
    "kernelspec": {
      "name": "python3",
      "display_name": "Python 3"
    },
    "language_info": {
      "name": "python"
    }
  },
  "cells": [
    {
      "cell_type": "markdown",
      "metadata": {
        "id": "view-in-github",
        "colab_type": "text"
      },
      "source": [
        "<a href=\"https://colab.research.google.com/github/abhimanyusinghp/Learn_Python_AI/blob/main/Day_03_A.ipynb\" target=\"_parent\"><img src=\"https://colab.research.google.com/assets/colab-badge.svg\" alt=\"Open In Colab\"/></a>"
      ]
    },
    {
      "cell_type": "code",
      "execution_count": null,
      "metadata": {
        "id": "3ejCGAP1gPKR"
      },
      "outputs": [],
      "source": [
        "ticket_price = 90\n",
        "wallet_size = 100"
      ]
    },
    {
      "cell_type": "markdown",
      "source": [
        "*   Control structures\n",
        "*   Conditional statements\n",
        "*   In interviews for sure will come.\n",
        "*   Use '_' underscore between letters\n",
        "*   Use lower case for variable names, do not use upper case\n",
        "*   Like use ticket_price, wallet_size\n",
        "*   Use ctrl + Enter , to run the code"
      ],
      "metadata": {
        "id": "40n1s9GTgvHW"
      }
    },
    {
      "cell_type": "code",
      "source": [
        "if ticket_price <= wallet_size:\n",
        "  print(\"You can buy the ticket\")\n",
        "else:\n",
        "  print(\"You cannot buy the ticket\")"
      ],
      "metadata": {
        "colab": {
          "base_uri": "https://localhost:8080/"
        },
        "id": "8iytEMeihyaH",
        "outputId": "b52ea126-7ab1-4eae-c5a1-6fbd05e57aef"
      },
      "execution_count": null,
      "outputs": [
        {
          "output_type": "stream",
          "name": "stdout",
          "text": [
            "You can buy the ticket\n"
          ]
        }
      ]
    },
    {
      "cell_type": "markdown",
      "source": [
        "\n",
        "\n",
        "*   Use if condition\n",
        "```\n",
        "# This is formatted as code\n",
        "if condition:\n",
        "#  #statements\n",
        "else:\n",
        "#  #statements\n",
        "```\n",
        "*   Compare using >, <, <=, >=, ==, !=\n",
        "*   AI can write the code directly here just by a tab space.\n",
        "\n",
        "\n",
        "\n",
        "\n",
        "\n",
        "\n",
        "\n"
      ],
      "metadata": {
        "id": "8ZNkOJdfh0Ag"
      }
    },
    {
      "cell_type": "code",
      "source": [
        "marks = 85\n",
        "\n",
        "# 90+ A+\n",
        "# 80+ A\n",
        "# 70+ B+\n",
        "# 60+ B\n",
        "# 60- Fail\n",
        "\n",
        "# For this use if-else-elif conditional statements"
      ],
      "metadata": {
        "id": "B-PE_O4Hie5o"
      },
      "execution_count": null,
      "outputs": []
    },
    {
      "cell_type": "code",
      "source": [
        "if (marks >=90):\n",
        "  print(\"A+\")\n",
        "elif (marks >=80):\n",
        "  print(\"A\")\n",
        "elif (marks >=70):\n",
        "  print(\"B+\")\n",
        "elif (marks >=60):\n",
        "  print(\"B\")\n",
        "else:\n",
        "  print(\"Fail\")"
      ],
      "metadata": {
        "colab": {
          "base_uri": "https://localhost:8080/"
        },
        "id": "ubQBvKWwjYjN",
        "outputId": "d5258f3f-5e96-416f-9b14-c271e01d32e6"
      },
      "execution_count": null,
      "outputs": [
        {
          "output_type": "stream",
          "name": "stdout",
          "text": [
            "A\n"
          ]
        }
      ]
    },
    {
      "cell_type": "markdown",
      "source": [
        "So this is how we can use if-elif-else"
      ],
      "metadata": {
        "id": "PLhFEVGNjvJ4"
      }
    }
  ]
}