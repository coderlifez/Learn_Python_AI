{
  "nbformat": 4,
  "nbformat_minor": 0,
  "metadata": {
    "colab": {
      "provenance": [],
      "authorship_tag": "ABX9TyPSvK0/QorKPJuFBy3x7+Yw",
      "include_colab_link": true
    },
    "kernelspec": {
      "name": "python3",
      "display_name": "Python 3"
    },
    "language_info": {
      "name": "python"
    }
  },
  "cells": [
    {
      "cell_type": "markdown",
      "metadata": {
        "id": "view-in-github",
        "colab_type": "text"
      },
      "source": [
        "<a href=\"https://colab.research.google.com/github/coderlifez/Learn_Python_AI/blob/main/Day_10_A.ipynb\" target=\"_parent\"><img src=\"https://colab.research.google.com/assets/colab-badge.svg\" alt=\"Open In Colab\"/></a>"
      ]
    },
    {
      "cell_type": "markdown",
      "source": [
        "# Strings"
      ],
      "metadata": {
        "id": "QMhts0MXuBKp"
      }
    },
    {
      "cell_type": "markdown",
      "source": [
        "# 1. Creating Strings"
      ],
      "metadata": {
        "id": "mLx7sLA1uFt3"
      }
    },
    {
      "cell_type": "markdown",
      "source": [],
      "metadata": {
        "id": "bqG5TqPHwJYE"
      }
    },
    {
      "cell_type": "code",
      "source": [
        "single_quoted_string = 'data science'\n",
        "double_quoted_string = \"data science\"\n",
        "triple_quoted_string = '''data science'''\n"
      ],
      "metadata": {
        "id": "oA9XCGPcuIKY"
      },
      "execution_count": 1,
      "outputs": []
    },
    {
      "cell_type": "markdown",
      "source": [
        "*   Single quoted strings means using single quotes ' ', while double quoted strings means using double quotes \" \", while triple quotes means using single quotes thrice like '''  '''.\n",
        "*   When do we use these:\n",
        "  *   Single quotes: When we use characters\n",
        "  *   Double quotes: When we use for all strings single line\n",
        "  *   Triple quotes: When we use sentences/ multiline strings\n",
        "```\n",
        "variable_name1 = 'text'\n",
        "variable_name2 = \"text\"\n",
        "variable_name3 = ''' Line 1\n",
        "Line 2\n",
        "Line 3'''\n",
        "```"
      ],
      "metadata": {
        "id": "8sdZvCwruQqD"
      }
    },
    {
      "cell_type": "code",
      "source": [
        "single_quoted_string"
      ],
      "metadata": {
        "colab": {
          "base_uri": "https://localhost:8080/",
          "height": 35
        },
        "id": "n-OeepzMus8x",
        "outputId": "17be6e5d-134f-49f4-8f56-444f733c29bd"
      },
      "execution_count": 3,
      "outputs": [
        {
          "output_type": "execute_result",
          "data": {
            "text/plain": [
              "'data science'"
            ],
            "application/vnd.google.colaboratory.intrinsic+json": {
              "type": "string"
            }
          },
          "metadata": {},
          "execution_count": 3
        }
      ]
    },
    {
      "cell_type": "code",
      "source": [
        "double_quoted_string"
      ],
      "metadata": {
        "colab": {
          "base_uri": "https://localhost:8080/",
          "height": 35
        },
        "id": "UI27Z2Wyu1KD",
        "outputId": "34b8eab7-4907-4323-c9ad-3a478fe63610"
      },
      "execution_count": 4,
      "outputs": [
        {
          "output_type": "execute_result",
          "data": {
            "text/plain": [
              "'data science'"
            ],
            "application/vnd.google.colaboratory.intrinsic+json": {
              "type": "string"
            }
          },
          "metadata": {},
          "execution_count": 4
        }
      ]
    },
    {
      "cell_type": "code",
      "source": [
        "triple_quoted_string"
      ],
      "metadata": {
        "colab": {
          "base_uri": "https://localhost:8080/",
          "height": 35
        },
        "id": "sB0fuSJTu1kU",
        "outputId": "8b8e8a1d-aa5a-400a-abc1-b91bed7451ac"
      },
      "execution_count": 5,
      "outputs": [
        {
          "output_type": "execute_result",
          "data": {
            "text/plain": [
              "'data science'"
            ],
            "application/vnd.google.colaboratory.intrinsic+json": {
              "type": "string"
            }
          },
          "metadata": {},
          "execution_count": 5
        }
      ]
    },
    {
      "cell_type": "code",
      "source": [
        "multi_line_string = '''This is the first line.\n",
        "This is the second line.\n",
        "This is the third line.'''"
      ],
      "metadata": {
        "id": "BkmowRSAvUXV"
      },
      "execution_count": 6,
      "outputs": []
    },
    {
      "cell_type": "code",
      "source": [
        "multi_line_string"
      ],
      "metadata": {
        "colab": {
          "base_uri": "https://localhost:8080/",
          "height": 35
        },
        "id": "Fcnb1GVAvX1C",
        "outputId": "ff6fe139-42ad-4ae3-c60a-6a9917a1a3ee"
      },
      "execution_count": 7,
      "outputs": [
        {
          "output_type": "execute_result",
          "data": {
            "text/plain": [
              "'This is the first line.\\nThis is the second line.\\nThis is the third line.'"
            ],
            "application/vnd.google.colaboratory.intrinsic+json": {
              "type": "string"
            }
          },
          "metadata": {},
          "execution_count": 7
        }
      ]
    },
    {
      "cell_type": "markdown",
      "source": [
        "*   So here we used triple quotes for multiline. while the \\n means new line."
      ],
      "metadata": {
        "id": "r0_SD0JsvZ0Q"
      }
    },
    {
      "cell_type": "markdown",
      "source": [
        "# 2. Accessing Characters/ Char"
      ],
      "metadata": {
        "id": "cwyu8ubKvgXS"
      }
    },
    {
      "cell_type": "code",
      "source": [
        "single_quoted_string = 'data science'"
      ],
      "metadata": {
        "id": "5BCC70mXvkf2"
      },
      "execution_count": 8,
      "outputs": []
    },
    {
      "cell_type": "code",
      "source": [
        "single_quoted_string[0]"
      ],
      "metadata": {
        "colab": {
          "base_uri": "https://localhost:8080/",
          "height": 35
        },
        "id": "1G6-SCDsvm68",
        "outputId": "bdbf7a6d-bd1f-49fc-e8e3-73845baa83b0"
      },
      "execution_count": 9,
      "outputs": [
        {
          "output_type": "execute_result",
          "data": {
            "text/plain": [
              "'d'"
            ],
            "application/vnd.google.colaboratory.intrinsic+json": {
              "type": "string"
            }
          },
          "metadata": {},
          "execution_count": 9
        }
      ]
    },
    {
      "cell_type": "markdown",
      "source": [
        "*   So we can access any character of a string using index of the character.\n",
        "```\n",
        "variable_name[index]\n",
        "```"
      ],
      "metadata": {
        "id": "E3YB4E01vqtc"
      }
    },
    {
      "cell_type": "markdown",
      "source": [
        "# 3. Slicing a String"
      ],
      "metadata": {
        "id": "y7Ucn2P1wMSB"
      }
    },
    {
      "cell_type": "markdown",
      "source": [
        "*   Slicing mostly we do using indexing.\n",
        "```\n",
        "variable_name[start:end]\n",
        "```\n",
        "here start is the start point index from where you need to slice, and end is where you need to stop."
      ],
      "metadata": {
        "id": "M8ZWlfi9wQ6k"
      }
    },
    {
      "cell_type": "code",
      "source": [
        "single_quoted_string[:4]"
      ],
      "metadata": {
        "colab": {
          "base_uri": "https://localhost:8080/",
          "height": 35
        },
        "id": "BVwtg28gwqOQ",
        "outputId": "095b1532-fbf0-4188-afa5-ef3a86ead459"
      },
      "execution_count": 10,
      "outputs": [
        {
          "output_type": "execute_result",
          "data": {
            "text/plain": [
              "'data'"
            ],
            "application/vnd.google.colaboratory.intrinsic+json": {
              "type": "string"
            }
          },
          "metadata": {},
          "execution_count": 10
        }
      ]
    },
    {
      "cell_type": "code",
      "source": [
        "multi_line_string[:10]"
      ],
      "metadata": {
        "colab": {
          "base_uri": "https://localhost:8080/",
          "height": 35
        },
        "id": "r7b6OAsAwuuW",
        "outputId": "1cf7303f-c416-40fa-b7e0-51abec12be5e"
      },
      "execution_count": 12,
      "outputs": [
        {
          "output_type": "execute_result",
          "data": {
            "text/plain": [
              "'This is th'"
            ],
            "application/vnd.google.colaboratory.intrinsic+json": {
              "type": "string"
            }
          },
          "metadata": {},
          "execution_count": 12
        }
      ]
    },
    {
      "cell_type": "code",
      "source": [
        "single_quoted_string[2:4]"
      ],
      "metadata": {
        "colab": {
          "base_uri": "https://localhost:8080/",
          "height": 35
        },
        "id": "GRowl9fSw1vx",
        "outputId": "fc5cd4d2-9808-4d1c-b073-a81b98d5c703"
      },
      "execution_count": 13,
      "outputs": [
        {
          "output_type": "execute_result",
          "data": {
            "text/plain": [
              "'ta'"
            ],
            "application/vnd.google.colaboratory.intrinsic+json": {
              "type": "string"
            }
          },
          "metadata": {},
          "execution_count": 13
        }
      ]
    },
    {
      "cell_type": "markdown",
      "source": [
        "# 4. Negative Indexing"
      ],
      "metadata": {
        "id": "5AQkRkOzw1LN"
      }
    },
    {
      "cell_type": "markdown",
      "source": [
        "*   So we can use negative index also to do all operations."
      ],
      "metadata": {
        "id": "TE9e38jrw-3B"
      }
    },
    {
      "cell_type": "code",
      "source": [
        "double_quoted_string[-1]"
      ],
      "metadata": {
        "colab": {
          "base_uri": "https://localhost:8080/",
          "height": 35
        },
        "id": "ob2lFx7Pw8D7",
        "outputId": "6fbdfe8b-3c16-4e27-9f00-6035769f2f56"
      },
      "execution_count": 14,
      "outputs": [
        {
          "output_type": "execute_result",
          "data": {
            "text/plain": [
              "'e'"
            ],
            "application/vnd.google.colaboratory.intrinsic+json": {
              "type": "string"
            }
          },
          "metadata": {},
          "execution_count": 14
        }
      ]
    },
    {
      "cell_type": "markdown",
      "source": [
        "# 5. String Concatenation"
      ],
      "metadata": {
        "id": "xk2gmda4xFTg"
      }
    },
    {
      "cell_type": "markdown",
      "source": [
        "*   Here it means joining 2 strings. For that we use '+' symbol between 2 strings.\n",
        "```\n",
        "\"string1\" + \"string2\"\n",
        "```"
      ],
      "metadata": {
        "id": "tsQXoBhVxIYl"
      }
    },
    {
      "cell_type": "code",
      "source": [
        "\"Hello\" + \" \" + \"World\" + \"!\""
      ],
      "metadata": {
        "colab": {
          "base_uri": "https://localhost:8080/",
          "height": 35
        },
        "id": "6q57J6AXxIG1",
        "outputId": "2e833947-c03a-429d-bbf2-270867701c27"
      },
      "execution_count": 15,
      "outputs": [
        {
          "output_type": "execute_result",
          "data": {
            "text/plain": [
              "'Hello World!'"
            ],
            "application/vnd.google.colaboratory.intrinsic+json": {
              "type": "string"
            }
          },
          "metadata": {},
          "execution_count": 15
        }
      ]
    },
    {
      "cell_type": "code",
      "source": [
        "string1 = \"Data\"\n",
        "string2 = \" \"\n",
        "string3 = \"Science\"\n",
        "\n",
        "string4 = string1 + string2 + string3"
      ],
      "metadata": {
        "id": "BXPL0Qppxizo"
      },
      "execution_count": 17,
      "outputs": []
    },
    {
      "cell_type": "code",
      "source": [
        "string4"
      ],
      "metadata": {
        "colab": {
          "base_uri": "https://localhost:8080/",
          "height": 35
        },
        "id": "d7X0S5IZxqlm",
        "outputId": "1eb157fa-71cc-4524-9e93-cc81cbefcb81"
      },
      "execution_count": 18,
      "outputs": [
        {
          "output_type": "execute_result",
          "data": {
            "text/plain": [
              "'Data Science'"
            ],
            "application/vnd.google.colaboratory.intrinsic+json": {
              "type": "string"
            }
          },
          "metadata": {},
          "execution_count": 18
        }
      ]
    },
    {
      "cell_type": "markdown",
      "source": [
        "# 6. String Repetition"
      ],
      "metadata": {
        "id": "1MHTQ4r-x3zp"
      }
    },
    {
      "cell_type": "markdown",
      "source": [
        "*   When we want to repeat a string multiple times, so we can use '*' multiplication to multiply.\n",
        "```\n",
        "\"string1\" * numberOfTimesToRepeat\n",
        "```"
      ],
      "metadata": {
        "id": "2WI0GAv8x81b"
      }
    },
    {
      "cell_type": "code",
      "source": [
        "\"hi \" * 3"
      ],
      "metadata": {
        "colab": {
          "base_uri": "https://localhost:8080/",
          "height": 35
        },
        "id": "Dw6FSoSwyTLp",
        "outputId": "b8aac7fb-cc6b-4890-9dee-5f0a7dbd24c9"
      },
      "execution_count": 19,
      "outputs": [
        {
          "output_type": "execute_result",
          "data": {
            "text/plain": [
              "'hi hi hi '"
            ],
            "application/vnd.google.colaboratory.intrinsic+json": {
              "type": "string"
            }
          },
          "metadata": {},
          "execution_count": 19
        }
      ]
    },
    {
      "cell_type": "markdown",
      "source": [
        "*   We can also do other operations along with this."
      ],
      "metadata": {
        "id": "maNsf67ByWDp"
      }
    },
    {
      "cell_type": "code",
      "source": [
        "\"hi \" * 3 + '!'"
      ],
      "metadata": {
        "colab": {
          "base_uri": "https://localhost:8080/",
          "height": 35
        },
        "id": "1KxY7bEzyaWF",
        "outputId": "2993cb85-8771-4a08-ca2d-d23f73fd4129"
      },
      "execution_count": 20,
      "outputs": [
        {
          "output_type": "execute_result",
          "data": {
            "text/plain": [
              "'hi hi hi !'"
            ],
            "application/vnd.google.colaboratory.intrinsic+json": {
              "type": "string"
            }
          },
          "metadata": {},
          "execution_count": 20
        }
      ]
    },
    {
      "cell_type": "code",
      "source": [
        "string1 = \"Run \"\n",
        "numberOfTimesToRepeat = 4\n",
        "string2 = \"!! Stop !\"\n",
        "\n",
        "string3 = string1 * numberOfTimesToRepeat + string2"
      ],
      "metadata": {
        "id": "CHA6-FIByfQM"
      },
      "execution_count": 24,
      "outputs": []
    },
    {
      "cell_type": "code",
      "source": [
        "string3"
      ],
      "metadata": {
        "colab": {
          "base_uri": "https://localhost:8080/",
          "height": 35
        },
        "id": "BciKJ9xLy6ND",
        "outputId": "acfcc9a1-4919-4033-a23c-8dadd9541d96"
      },
      "execution_count": 25,
      "outputs": [
        {
          "output_type": "execute_result",
          "data": {
            "text/plain": [
              "'Run Run Run Run !! Stop !'"
            ],
            "application/vnd.google.colaboratory.intrinsic+json": {
              "type": "string"
            }
          },
          "metadata": {},
          "execution_count": 25
        }
      ]
    },
    {
      "cell_type": "markdown",
      "source": [
        "# 7. String Length"
      ],
      "metadata": {
        "id": "n06SSl4yzHJJ"
      }
    },
    {
      "cell_type": "markdown",
      "source": [
        "*   We can find using lenght function.\n",
        "```\n",
        "len(variable_name/\"string\")\n",
        "```"
      ],
      "metadata": {
        "id": "pwwjK52czKz_"
      }
    },
    {
      "cell_type": "code",
      "source": [
        "x = \"hello\""
      ],
      "metadata": {
        "id": "6KsPK1G8zUVD"
      },
      "execution_count": 26,
      "outputs": []
    },
    {
      "cell_type": "code",
      "source": [
        "len(x)"
      ],
      "metadata": {
        "colab": {
          "base_uri": "https://localhost:8080/",
          "height": 0
        },
        "id": "7tW0JDAfzWqY",
        "outputId": "fe8493e0-85fa-4281-8b4b-97a2e705557f"
      },
      "execution_count": 27,
      "outputs": [
        {
          "output_type": "execute_result",
          "data": {
            "text/plain": [
              "5"
            ]
          },
          "metadata": {},
          "execution_count": 27
        }
      ]
    },
    {
      "cell_type": "markdown",
      "source": [
        "# 8. Checking Substrings"
      ],
      "metadata": {
        "id": "19B0rvR_zZZN"
      }
    },
    {
      "cell_type": "markdown",
      "source": [
        "*   If we want to check content in a string, then we do this. Like substring is a part of main string.\n",
        "```\n",
        "\"Hello World\" ->  Main string\n",
        "\"World\"       =>  Sub string of main string\n",
        "```\n",
        "*   So we can check if substring is present in main string is by using keyword \"in\".\n",
        "```\n",
        "\"string1\"\n",
        "\"str\" in \"string1\"\n",
        "```\n",
        "*   And if the substring is present we get True, else False."
      ],
      "metadata": {
        "id": "n4JYcu_LzcJW"
      }
    },
    {
      "cell_type": "code",
      "source": [
        "\"hello world\"\n",
        "\"hello\" in \"hello world\""
      ],
      "metadata": {
        "colab": {
          "base_uri": "https://localhost:8080/",
          "height": 0
        },
        "id": "i3BaGEeL0F8W",
        "outputId": "7fe4b5de-cbf4-4f20-c274-eb90ed94f64f"
      },
      "execution_count": 28,
      "outputs": [
        {
          "output_type": "execute_result",
          "data": {
            "text/plain": [
              "True"
            ]
          },
          "metadata": {},
          "execution_count": 28
        }
      ]
    },
    {
      "cell_type": "code",
      "source": [
        "x = \"Hello world\""
      ],
      "metadata": {
        "id": "nJcuS-zx0UoY"
      },
      "execution_count": 30,
      "outputs": []
    },
    {
      "cell_type": "code",
      "source": [
        "print(\"Hello\" in x)"
      ],
      "metadata": {
        "colab": {
          "base_uri": "https://localhost:8080/",
          "height": 0
        },
        "id": "1Hu3rmOH0X_h",
        "outputId": "6a653d0a-7b2f-49a4-e732-bc1b83aff8d0"
      },
      "execution_count": 31,
      "outputs": [
        {
          "output_type": "stream",
          "name": "stdout",
          "text": [
            "True\n"
          ]
        }
      ]
    },
    {
      "cell_type": "code",
      "source": [
        "print(\"hello\" in x)"
      ],
      "metadata": {
        "colab": {
          "base_uri": "https://localhost:8080/",
          "height": 0
        },
        "id": "QfubRws90cI9",
        "outputId": "35246a7a-961b-4ef1-b6fb-d38064c99e38"
      },
      "execution_count": 32,
      "outputs": [
        {
          "output_type": "stream",
          "name": "stdout",
          "text": [
            "False\n"
          ]
        }
      ]
    },
    {
      "cell_type": "markdown",
      "source": [
        "*   So if we see its case sensitive also."
      ],
      "metadata": {
        "id": "Ql8aOad70fQz"
      }
    },
    {
      "cell_type": "code",
      "source": [
        "print(\"new\" in x)"
      ],
      "metadata": {
        "colab": {
          "base_uri": "https://localhost:8080/",
          "height": 0
        },
        "id": "FbhGw_T10jdD",
        "outputId": "f6d43c84-3b54-4e52-b19e-9860eccbc000"
      },
      "execution_count": 33,
      "outputs": [
        {
          "output_type": "stream",
          "name": "stdout",
          "text": [
            "False\n"
          ]
        }
      ]
    },
    {
      "cell_type": "markdown",
      "source": [
        "# 9. String Methods / Functions"
      ],
      "metadata": {
        "id": "dlfqtqWW0qEN"
      }
    },
    {
      "cell_type": "markdown",
      "source": [
        "*   By using this we can modify the strings using methods/functions, like:\n",
        "```\n",
        "\"string\".lower()\n",
        "\"string\".upper()\n",
        "\"string\".title()\n",
        "\"string\".swapcase()\n",
        "\"string\".capitalize()\n",
        "and many more like : join, split, strip, replace, ...\n",
        "```"
      ],
      "metadata": {
        "id": "x62IMZzF0srV"
      }
    },
    {
      "cell_type": "code",
      "source": [
        "text = \"Hello\""
      ],
      "metadata": {
        "id": "L5fBVUIl1k5I"
      },
      "execution_count": 34,
      "outputs": []
    },
    {
      "cell_type": "code",
      "source": [
        "text.lower()"
      ],
      "metadata": {
        "colab": {
          "base_uri": "https://localhost:8080/",
          "height": 35
        },
        "id": "9RX3_ThG1q9k",
        "outputId": "37244111-45fb-463b-af0a-3a638246486f"
      },
      "execution_count": 35,
      "outputs": [
        {
          "output_type": "execute_result",
          "data": {
            "text/plain": [
              "'hello'"
            ],
            "application/vnd.google.colaboratory.intrinsic+json": {
              "type": "string"
            }
          },
          "metadata": {},
          "execution_count": 35
        }
      ]
    },
    {
      "cell_type": "code",
      "source": [
        "text.upper()"
      ],
      "metadata": {
        "colab": {
          "base_uri": "https://localhost:8080/",
          "height": 35
        },
        "id": "UG6kU06P1tgB",
        "outputId": "791c7a5a-3f10-4dc3-8780-ea9b9c2e5757"
      },
      "execution_count": 36,
      "outputs": [
        {
          "output_type": "execute_result",
          "data": {
            "text/plain": [
              "'HELLO'"
            ],
            "application/vnd.google.colaboratory.intrinsic+json": {
              "type": "string"
            }
          },
          "metadata": {},
          "execution_count": 36
        }
      ]
    },
    {
      "cell_type": "markdown",
      "source": [
        "# 10. String Formatting - F String"
      ],
      "metadata": {
        "id": "-BJ9ik1r1ygG"
      }
    },
    {
      "cell_type": "markdown",
      "source": [
        "*   We can format strings, one of the method is using F-Strings.\n",
        "*   If the value changes often then we can use this method and also for string formatting we use.\n",
        "```\n",
        "variable_name = \"randomtext\"\n",
        "print(f\"Text to print is {variable_name}\")\n",
        "```"
      ],
      "metadata": {
        "id": "Lp8lOg8514W3"
      }
    },
    {
      "cell_type": "markdown",
      "source": [
        "**Here are the main points about strings to help you understand the concepts in brief:**\n",
        "\n",
        "*   **Creating Strings:** Strings can be created using single quotes ('...'), double quotes (\"...\"), or triple quotes ('''...''' or \"\"\"...\"\"\").\n",
        "*   **Triple quotes** are useful for multiline strings.\n",
        "*   **Accessing Characters:** Individual characters in a string can be accessed using their index within square brackets [].\n",
        "*   **Slicing a String:** A portion of a string (a substring) can be extracted using slicing with the format [start:end], where start is the starting index (inclusive) and end is the ending index (exclusive).\n",
        "*   **Negative Indexing:** You can access characters from the end of the string using negative indices, starting with -1 for the last character.\n",
        "*   **String Concatenation:** Strings can be joined together using the + operator.\n",
        "*   **String Repetition:** A string can be repeated multiple times using the * operator followed by the number of repetitions.\n",
        "*   **String Length:** The len() function returns the number of characters in a string.\n",
        "*   **Checking Substrings:** You can check if a substring exists within a main string using the in keyword. This check is case-sensitive.\n",
        "*   **String Methods/Functions:** Strings have built-in methods (like .lower(), .upper(), .title(), etc.) that can be used to modify or perform operations on them.\n",
        "*   **String Formatting (F-Strings):** F-strings (prefixed with f) provide a concise way to embed expressions inside string literals."
      ],
      "metadata": {
        "id": "AxysYMLj2njU"
      }
    }
  ]
}