{
  "nbformat": 4,
  "nbformat_minor": 0,
  "metadata": {
    "colab": {
      "provenance": [],
      "authorship_tag": "ABX9TyMiOqhRHyrYw/ACVYMGE+/3",
      "include_colab_link": true
    },
    "kernelspec": {
      "name": "python3",
      "display_name": "Python 3"
    },
    "language_info": {
      "name": "python"
    }
  },
  "cells": [
    {
      "cell_type": "markdown",
      "metadata": {
        "id": "view-in-github",
        "colab_type": "text"
      },
      "source": [
        "<a href=\"https://colab.research.google.com/github/abhimanyusinghp/Learn_Python_AI/blob/main/Day_02_B.ipynb\" target=\"_parent\"><img src=\"https://colab.research.google.com/assets/colab-badge.svg\" alt=\"Open In Colab\"/></a>"
      ]
    },
    {
      "cell_type": "markdown",
      "source": [
        "*   We can see generate with AI option\n",
        "*   We can use Gemini which is on right top corner.\n",
        "*   We will also use chatgpt, claud.ai, and many ai's.\n",
        "*   We can just try by saying, create 2 line code for addition of 2 values."
      ],
      "metadata": {
        "id": "rIA6tdB6E_Rm"
      }
    },
    {
      "cell_type": "code",
      "execution_count": 2,
      "metadata": {
        "colab": {
          "base_uri": "https://localhost:8080/",
          "height": 0
        },
        "id": "-acDf5KOE8Op",
        "outputId": "793fbecc-64fd-40d8-93bd-dbeb892e7fed"
      },
      "outputs": [
        {
          "output_type": "stream",
          "name": "stdout",
          "text": [
            "8\n"
          ]
        }
      ],
      "source": [
        "a = 5 + 3\n",
        "print(a)"
      ]
    }
  ]
}