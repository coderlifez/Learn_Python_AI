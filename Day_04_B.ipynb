{
  "nbformat": 4,
  "nbformat_minor": 0,
  "metadata": {
    "colab": {
      "provenance": [],
      "authorship_tag": "ABX9TyOCoHisQbw1bzIrwoAyPRe8",
      "include_colab_link": true
    },
    "kernelspec": {
      "name": "python3",
      "display_name": "Python 3"
    },
    "language_info": {
      "name": "python"
    }
  },
  "cells": [
    {
      "cell_type": "markdown",
      "metadata": {
        "id": "view-in-github",
        "colab_type": "text"
      },
      "source": [
        "<a href=\"https://colab.research.google.com/github/abhimanyusinghp/Learn_Python_AI/blob/main/Day_04_B.ipynb\" target=\"_parent\"><img src=\"https://colab.research.google.com/assets/colab-badge.svg\" alt=\"Open In Colab\"/></a>"
      ]
    },
    {
      "cell_type": "code",
      "execution_count": null,
      "metadata": {
        "id": "JzqFijdZukg0"
      },
      "outputs": [],
      "source": []
    },
    {
      "cell_type": "markdown",
      "source": [
        "*   Use AI for the loops.\n",
        "*   Let’s ask AI more questions about loops.\n",
        "*   Ask : What kind of loops exist in python.\n",
        "*   It answers: Python has two main types of loops:\n",
        "*   for loops: Used for iterating over a sequence (like a list, tuple, string, or range) or other iterable objects.\n",
        "*   while loops: Used for repeatedly executing a block of code as long as a condition is true\n",
        "*   Lets ask few more things to AI.\n",
        "*   Ask : give an example of while loop,, difference between for loop and while loop with example."
      ],
      "metadata": {
        "id": "0F3k_3DWut9g"
      }
    },
    {
      "cell_type": "markdown",
      "metadata": {
        "id": "36ce24b1"
      },
      "source": [
        "Here is an example of a `while` loop:"
      ]
    },
    {
      "cell_type": "code",
      "metadata": {
        "colab": {
          "base_uri": "https://localhost:8080/"
        },
        "id": "deee0658",
        "outputId": "361d85e5-39ec-431f-9346-4b202edc41e3"
      },
      "source": [
        "# While loop example\n",
        "count = 0\n",
        "while count < 5:\n",
        "  print(f\"Count is: {count}\")\n",
        "  count += 1\n",
        "\n",
        "print(\"While loop finished.\")"
      ],
      "execution_count": 1,
      "outputs": [
        {
          "output_type": "stream",
          "name": "stdout",
          "text": [
            "Count is: 0\n",
            "Count is: 1\n",
            "Count is: 2\n",
            "Count is: 3\n",
            "Count is: 4\n",
            "While loop finished.\n"
          ]
        }
      ]
    },
    {
      "cell_type": "markdown",
      "metadata": {
        "id": "4de1f448"
      },
      "source": [
        "The main difference between `for` loops and `while` loops lies in how they determine when to stop.\n",
        "\n",
        "*   A **`for` loop** is typically used when you know the number of iterations beforehand or when you want to iterate over items in a sequence.\n",
        "*   A **`while` loop** is used when you want to repeat a block of code as long as a certain condition is true. You don't necessarily know the exact number of iterations in advance.\n",
        "\n",
        "Here's an example showing the difference:"
      ]
    },
    {
      "cell_type": "markdown",
      "metadata": {
        "id": "1347bbcd"
      },
      "source": [
        "**For loop example (iterating over a list):**\n",
        "\n",
        "> Add blockquote\n",
        "\n"
      ]
    },
    {
      "cell_type": "code",
      "metadata": {
        "colab": {
          "base_uri": "https://localhost:8080/"
        },
        "id": "8b89bd21",
        "outputId": "207e7612-0547-4ab4-c457-69eb56c46495"
      },
      "source": [
        "# For loop example\n",
        "fruits = [\"apple\", \"banana\", \"cherry\"]\n",
        "for fruit in fruits:\n",
        "  print(fruit)"
      ],
      "execution_count": 2,
      "outputs": [
        {
          "output_type": "stream",
          "name": "stdout",
          "text": [
            "apple\n",
            "banana\n",
            "cherry\n"
          ]
        }
      ]
    },
    {
      "cell_type": "markdown",
      "metadata": {
        "id": "fda14e2c"
      },
      "source": [
        "**While loop example (repeating based on a condition):**"
      ]
    },
    {
      "cell_type": "code",
      "metadata": {
        "colab": {
          "base_uri": "https://localhost:8080/"
        },
        "id": "0dd6ea3e",
        "outputId": "dedd4318-79fd-4e9a-c025-a328a0bccb40"
      },
      "source": [
        "# While loop example\n",
        "import random\n",
        "\n",
        "target_number = random.randint(1, 10)\n",
        "guess = None\n",
        "\n",
        "print(\"Guess the number between 1 and 10!\")\n",
        "\n",
        "while guess != target_number:\n",
        "  guess = int(input(\"Enter your guess: \"))\n",
        "  if guess < target_number:\n",
        "    print(\"Too low! Try again.\")\n",
        "  elif guess > target_number:\n",
        "    print(\"Too high! Try again.\")\n",
        "\n",
        "print(f\"Congratulations! You guessed the number {target_number}.\")"
      ],
      "execution_count": 3,
      "outputs": [
        {
          "output_type": "stream",
          "name": "stdout",
          "text": [
            "Guess the number between 1 and 10!\n",
            "Enter your guess: 1\n",
            "Too low! Try again.\n",
            "Enter your guess: 2\n",
            "Too low! Try again.\n",
            "Enter your guess: 10\n",
            "Congratulations! You guessed the number 10.\n"
          ]
        }
      ]
    },
    {
      "cell_type": "markdown",
      "metadata": {
        "id": "54356a67"
      },
      "source": [
        "Here's an explanation of `input()` and `int()` and how they were used in the `while` loop example:"
      ]
    },
    {
      "cell_type": "code",
      "metadata": {
        "colab": {
          "base_uri": "https://localhost:8080/"
        },
        "id": "466e6fd2",
        "outputId": "74af0661-d292-4a73-94e8-9c4ceed91aa2"
      },
      "source": [
        "# The input() function\n",
        "# The input() function is used to get input from the user.\n",
        "# It reads a line from the input, converts it to a string, and returns that string.\n",
        "user_input_string = input(\"Please enter something: \")\n",
        "print(f\"You entered: {user_input_string} (This is a string)\")\n",
        "\n",
        "# The int() function\n",
        "# The int() function is used to convert a value to an integer.\n",
        "# In the while loop example, input() returns a string, but we needed to compare it\n",
        "# to a random integer (target_number). So, we used int() to convert the user's\n",
        "# input string into an integer.\n",
        "try:\n",
        "  user_input_integer = int(user_input_string)\n",
        "  print(f\"After converting to integer: {user_input_integer} (This is an integer)\")\n",
        "except ValueError:\n",
        "  print(\"Could not convert your input to an integer.\")\n",
        "\n",
        "# How they were used together in the while loop:\n",
        "# guess = int(input(\"Enter your guess: \"))\n",
        "# This line first gets input from the user as a string using input(),\n",
        "# and then immediately converts that string to an integer using int(),\n",
        "# storing the result in the 'guess' variable. This is necessary because\n",
        "# we were comparing 'guess' with 'target_number', which was an integer."
      ],
      "execution_count": 7,
      "outputs": [
        {
          "output_type": "stream",
          "name": "stdout",
          "text": [
            "Please enter something: a\n",
            "You entered: a (This is a string)\n",
            "Could not convert your input to an integer.\n"
          ]
        }
      ]
    },
    {
      "cell_type": "markdown",
      "metadata": {
        "id": "df47e8db"
      },
      "source": [
        "Now, let's look at how lists are used in `for` loops:"
      ]
    },
    {
      "cell_type": "code",
      "metadata": {
        "colab": {
          "base_uri": "https://localhost:8080/"
        },
        "id": "59b11359",
        "outputId": "dcf790e7-65b8-4ceb-e146-848269e7010e"
      },
      "source": [
        "# Using a list in a for loop\n",
        "# A for loop can directly iterate over the items in a list.\n",
        "# In each iteration, the loop variable (e.g., 'item' or 'fruit' in the earlier example)\n",
        "# will take on the value of the next item in the list.\n",
        "my_list = [\"apple\", \"banana\", \"cherry\", \"date\"]\n",
        "print(\"Iterating through the list:\")\n",
        "for item in my_list:\n",
        "  print(item)\n",
        "\n",
        "# This is a common way to process each element in a list."
      ],
      "execution_count": 5,
      "outputs": [
        {
          "output_type": "stream",
          "name": "stdout",
          "text": [
            "Iterating through the list:\n",
            "apple\n",
            "banana\n",
            "cherry\n",
            "date\n"
          ]
        }
      ]
    }
  ]
}