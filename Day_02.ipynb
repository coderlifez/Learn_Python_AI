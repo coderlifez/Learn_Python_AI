{
  "nbformat": 4,
  "nbformat_minor": 0,
  "metadata": {
    "colab": {
      "provenance": [],
      "authorship_tag": "ABX9TyNLAlmMZeR5+DfT66Jx2Z2g",
      "include_colab_link": true
    },
    "kernelspec": {
      "name": "python3",
      "display_name": "Python 3"
    },
    "language_info": {
      "name": "python"
    }
  },
  "cells": [
    {
      "cell_type": "markdown",
      "metadata": {
        "id": "view-in-github",
        "colab_type": "text"
      },
      "source": [
        "<a href=\"https://colab.research.google.com/github/abhimanyusinghp/Learn_Python_AI/blob/main/Day_02.ipynb\" target=\"_parent\"><img src=\"https://colab.research.google.com/assets/colab-badge.svg\" alt=\"Open In Colab\"/></a>"
      ]
    },
    {
      "cell_type": "code",
      "execution_count": null,
      "metadata": {
        "id": "xrLaAToacVI1"
      },
      "outputs": [],
      "source": [
        "# int float str\n",
        "\n",
        "#  int - integer - '-infinity', ..., -1, 0, 1, ....infinity\n",
        "#  float - decimal - 0.1, 0.01. -0.1, 10.3\n",
        "#  str - characters - \"a\", 'a', \"bus\", \" \", \"im in bus\", \"#\", \"@\", '.'"
      ]
    },
    {
      "cell_type": "markdown",
      "source": [
        "Keywords in Python\n",
        "\n",
        "ctrl + A (select All)\n",
        "\n",
        "ctrl + / (comment all)\n",
        "\n",
        "```\n",
        "# This is formatted as code\n",
        "int - integer - '-infinity', ..., -1, 0, 1, ....infinity.\n",
        "float - decimal - 0.1, 0.01. -0.1, 10.3.\n",
        "str - characters - \"a\", 'a', \"bus\", \" \", \"im in bus\", \"#\", \"@\", '.'\n",
        "```\n",
        "\n",
        "\n"
      ],
      "metadata": {
        "id": "qV73MMdDcvsn"
      }
    },
    {
      "cell_type": "code",
      "source": [
        "# Variables\n",
        "\n",
        "100 + 25 + 40 # Even this will run as calculator, but in one of this console, only 1 output is given"
      ],
      "metadata": {
        "colab": {
          "base_uri": "https://localhost:8080/"
        },
        "id": "zk0Y8jG1crM-",
        "outputId": "7c3a40a7-080c-489d-aafa-ac9a649e6b03"
      },
      "execution_count": 3,
      "outputs": [
        {
          "output_type": "execute_result",
          "data": {
            "text/plain": [
              "14"
            ]
          },
          "metadata": {},
          "execution_count": 3
        }
      ]
    },
    {
      "cell_type": "code",
      "source": [
        "100 * 7"
      ],
      "metadata": {
        "colab": {
          "base_uri": "https://localhost:8080/"
        },
        "id": "QA0AfC5PcrKi",
        "outputId": "fc038e41-9061-42e0-dddd-a8d71930c601"
      },
      "execution_count": 4,
      "outputs": [
        {
          "output_type": "execute_result",
          "data": {
            "text/plain": [
              "700"
            ]
          },
          "metadata": {},
          "execution_count": 4
        }
      ]
    },
    {
      "cell_type": "code",
      "source": [
        "100//7"
      ],
      "metadata": {
        "colab": {
          "base_uri": "https://localhost:8080/"
        },
        "id": "w-wuBdyLcrH8",
        "outputId": "dcafbece-7283-4c10-d9a9-e448a3e50121"
      },
      "execution_count": 5,
      "outputs": [
        {
          "output_type": "execute_result",
          "data": {
            "text/plain": [
              "14"
            ]
          },
          "metadata": {},
          "execution_count": 5
        }
      ]
    },
    {
      "cell_type": "code",
      "source": [
        "virat = 60 # virat is a variable to which value is assigned\n",
        "rohit = 30\n",
        "rahul = 10\n"
      ],
      "metadata": {
        "id": "mRd90vuScrB-"
      },
      "execution_count": 6,
      "outputs": []
    },
    {
      "cell_type": "code",
      "source": [
        "virat # now if we call any variable we gets its value"
      ],
      "metadata": {
        "colab": {
          "base_uri": "https://localhost:8080/"
        },
        "id": "IvNeATcAcq1f",
        "outputId": "5cb804c3-ac83-4a42-f1af-bb8de9fde8c1"
      },
      "execution_count": 7,
      "outputs": [
        {
          "output_type": "execute_result",
          "data": {
            "text/plain": [
              "60"
            ]
          },
          "metadata": {},
          "execution_count": 7
        }
      ]
    },
    {
      "cell_type": "code",
      "source": [
        "virat + rohit + rahul # we can also add these"
      ],
      "metadata": {
        "colab": {
          "base_uri": "https://localhost:8080/"
        },
        "id": "gcKGYzddewUA",
        "outputId": "c5a1d912-69db-486c-e521-9aa33ae21e8d"
      },
      "execution_count": 8,
      "outputs": [
        {
          "output_type": "execute_result",
          "data": {
            "text/plain": [
              "100"
            ]
          },
          "metadata": {},
          "execution_count": 8
        }
      ]
    },
    {
      "cell_type": "code",
      "source": [
        "x = 1\n",
        "y = 2\n",
        "z = 3\n",
        "# we can also do like this"
      ],
      "metadata": {
        "id": "FJ15VRtvewM-"
      },
      "execution_count": 9,
      "outputs": []
    },
    {
      "cell_type": "code",
      "source": [
        "1 = 2\n",
        "2 = 4\n",
        "# This is wrong, numers cant be assigned anything"
      ],
      "metadata": {
        "id": "ZmlqVyW1e8c3"
      },
      "execution_count": null,
      "outputs": []
    },
    {
      "cell_type": "code",
      "source": [
        "x,y,z = 1,2,3 # we can also assign like this and this is amazing. Single line assignment"
      ],
      "metadata": {
        "id": "H0tuUsX0e8au"
      },
      "execution_count": null,
      "outputs": []
    },
    {
      "cell_type": "code",
      "source": [
        "a,b = 10, 20 # run this before assigning"
      ],
      "metadata": {
        "id": "YegmIeZfe8YT"
      },
      "execution_count": 11,
      "outputs": []
    },
    {
      "cell_type": "code",
      "source": [
        "c = a + b # c is new variable to which we assigned 2 other variables in some operation, so here it runs and stores"
      ],
      "metadata": {
        "id": "SwhNFXVoe8UF"
      },
      "execution_count": 14,
      "outputs": []
    },
    {
      "cell_type": "code",
      "source": [
        "c # so here we print the stored value"
      ],
      "metadata": {
        "colab": {
          "base_uri": "https://localhost:8080/"
        },
        "id": "9jxPg8nZe8Qu",
        "outputId": "43879751-82e1-45af-c122-0b86aeb857c9"
      },
      "execution_count": 15,
      "outputs": [
        {
          "output_type": "execute_result",
          "data": {
            "text/plain": [
              "30"
            ]
          },
          "metadata": {},
          "execution_count": 15
        }
      ]
    }
  ]
}