{
  "nbformat": 4,
  "nbformat_minor": 0,
  "metadata": {
    "colab": {
      "provenance": [],
      "authorship_tag": "ABX9TyOIXZLuNBLMKZD0FBd4xYnx",
      "include_colab_link": true
    },
    "kernelspec": {
      "name": "python3",
      "display_name": "Python 3"
    },
    "language_info": {
      "name": "python"
    }
  },
  "cells": [
    {
      "cell_type": "markdown",
      "metadata": {
        "id": "view-in-github",
        "colab_type": "text"
      },
      "source": [
        "<a href=\"https://colab.research.google.com/github/coderlifez/Learn_Python_AI/blob/main/Day_08_A.ipynb\" target=\"_parent\"><img src=\"https://colab.research.google.com/assets/colab-badge.svg\" alt=\"Open In Colab\"/></a>"
      ]
    },
    {
      "cell_type": "markdown",
      "source": [
        "# Functions - Basics"
      ],
      "metadata": {
        "id": "mh4lGSuD5tg3"
      }
    },
    {
      "cell_type": "markdown",
      "source": [
        "*   Function is something that you can reuse.\n",
        "*   3 Important things in a function:\n",
        "  *   Input\n",
        "  *   Logic\n",
        "  *   Output"
      ],
      "metadata": {
        "id": "OPSbrIvf9JXD"
      }
    },
    {
      "cell_type": "markdown",
      "source": [],
      "metadata": {
        "id": "F7JZfH6dD9ph"
      }
    },
    {
      "cell_type": "code",
      "source": [
        "print(\"Hello world!\")"
      ],
      "metadata": {
        "id": "yYxlP6mT5wlr"
      },
      "execution_count": null,
      "outputs": []
    },
    {
      "cell_type": "markdown",
      "source": [
        "*   This is normal code, while if i want to reuse and print as many times anywhere, i can then use functions."
      ],
      "metadata": {
        "id": "ZNpBfDju9j5o"
      }
    },
    {
      "cell_type": "markdown",
      "source": [
        "# 1. Defining a Function"
      ],
      "metadata": {
        "id": "SM_xVPrt9vTS"
      }
    },
    {
      "cell_type": "markdown",
      "source": [
        "*   How to define a function?\n",
        "*   Use keyword def and as below:\n",
        "```\n",
        "def function_name():  # Defining a function\n",
        "#  statements..        # These are statements\n",
        "function_name()       # Calling the function\n",
        "```"
      ],
      "metadata": {
        "id": "jOOQ1nJi9zSY"
      }
    },
    {
      "cell_type": "code",
      "source": [
        "def hello():  # We defined the function\n",
        "  print(\"Hello world!\")"
      ],
      "metadata": {
        "id": "imkrfMSM9zJZ"
      },
      "execution_count": null,
      "outputs": []
    },
    {
      "cell_type": "markdown",
      "source": [
        "# 2. Calling a Function"
      ],
      "metadata": {
        "id": "jicMGU18BA_c"
      }
    },
    {
      "cell_type": "code",
      "source": [
        "hello() # Here we call the function, we can call any number of times"
      ],
      "metadata": {
        "colab": {
          "base_uri": "https://localhost:8080/"
        },
        "id": "Rm7qmQWV9tp1",
        "outputId": "e05a425e-e1a1-4422-b502-5b1785324571"
      },
      "execution_count": null,
      "outputs": [
        {
          "output_type": "stream",
          "name": "stdout",
          "text": [
            "Hello world!\n"
          ]
        }
      ]
    },
    {
      "cell_type": "markdown",
      "source": [
        "*   Input - Inside braces - nothing\n",
        "*   Logic - Print\n",
        "*   Output - Hello world!\n",
        "*   So these are the 3 things."
      ],
      "metadata": {
        "id": "RkYASRu1-sn-"
      }
    },
    {
      "cell_type": "markdown",
      "source": [
        "# 3. Function with Parameters/ Params"
      ],
      "metadata": {
        "id": "ipPscQokBNeL"
      }
    },
    {
      "cell_type": "code",
      "source": [
        "def hello(name):  # We defined the function, with parameter 'name'\n",
        "  print(f\"Hello {name}!\") # We used 'f-strings' which is f\" {varaiable}\""
      ],
      "metadata": {
        "id": "Fn0gRmpW_BZG"
      },
      "execution_count": null,
      "outputs": []
    },
    {
      "cell_type": "code",
      "source": [
        "hello(\"Ravi\")"
      ],
      "metadata": {
        "colab": {
          "base_uri": "https://localhost:8080/"
        },
        "id": "clN07E2U_KTD",
        "outputId": "046736dd-03bb-4cd7-ef2f-102bc22ae3de"
      },
      "execution_count": null,
      "outputs": [
        {
          "output_type": "stream",
          "name": "stdout",
          "text": [
            "Hello Ravi!\n"
          ]
        }
      ]
    },
    {
      "cell_type": "markdown",
      "source": [
        "*   So here we used the function with arguments.\n",
        "*   How we define is:\n",
        "```\n",
        "def function_name(arguments): # function defined with arguments\n",
        "# statements\n",
        "function_name(argument1) # function called with arguments passing\n",
        "```"
      ],
      "metadata": {
        "id": "y1NTkwwq_BNz"
      }
    },
    {
      "cell_type": "markdown",
      "source": [
        "*   We used f-strings to pass the argument in statements.\n",
        "*   So we use it as:\n",
        "```\n",
        "f\"statement to print {variable}\"\n",
        "```"
      ],
      "metadata": {
        "id": "lp4-KkLL--_B"
      }
    },
    {
      "cell_type": "markdown",
      "source": [
        "# F - Strings"
      ],
      "metadata": {
        "id": "23kw9VV2A4pE"
      }
    },
    {
      "cell_type": "code",
      "source": [
        "cricketer = \"Rahul\""
      ],
      "metadata": {
        "id": "je0qHinv_8lV"
      },
      "execution_count": null,
      "outputs": []
    },
    {
      "cell_type": "code",
      "source": [
        "f\"he is {cricketer}\""
      ],
      "metadata": {
        "colab": {
          "base_uri": "https://localhost:8080/",
          "height": 35
        },
        "id": "tvOif0H1AaaZ",
        "outputId": "4e553410-6d30-41c3-db90-f5c10dac88ca"
      },
      "execution_count": null,
      "outputs": [
        {
          "output_type": "execute_result",
          "data": {
            "text/plain": [
              "'he is Rahul'"
            ],
            "application/vnd.google.colaboratory.intrinsic+json": {
              "type": "string"
            }
          },
          "metadata": {},
          "execution_count": 12
        }
      ]
    },
    {
      "cell_type": "code",
      "source": [
        "country = \"India\"\n",
        "capital = \"New Delhi\"\n",
        "print(f\"The capital of {country} is {capital}\")"
      ],
      "metadata": {
        "colab": {
          "base_uri": "https://localhost:8080/"
        },
        "id": "7kb2Qb_tAiNz",
        "outputId": "b941d46a-063a-44ff-e849-80a8ed39412e"
      },
      "execution_count": null,
      "outputs": [
        {
          "output_type": "stream",
          "name": "stdout",
          "text": [
            "The capital of India is New Delhi\n"
          ]
        }
      ]
    },
    {
      "cell_type": "markdown",
      "source": [
        "# 4. Function with Return Value"
      ],
      "metadata": {
        "id": "l4WWvEtECQXt"
      }
    },
    {
      "cell_type": "markdown",
      "source": [
        "*   Use return to give the output. Here's how:\n",
        "```\n",
        "def function_name():\n",
        "#  return\n",
        "```"
      ],
      "metadata": {
        "id": "m1GW-POAC1MC"
      }
    },
    {
      "cell_type": "code",
      "source": [
        "def add_two_nums(a,b):\n",
        "  return a+b            # Use return to give the value whereever function is called.\n",
        "add_two_nums(10,20)"
      ],
      "metadata": {
        "colab": {
          "base_uri": "https://localhost:8080/"
        },
        "id": "6L6hGY2QAj8M",
        "outputId": "82de5b55-ab38-49b4-f776-be73a4b7177a"
      },
      "execution_count": null,
      "outputs": [
        {
          "output_type": "execute_result",
          "data": {
            "text/plain": [
              "30"
            ]
          },
          "metadata": {},
          "execution_count": 20
        }
      ]
    },
    {
      "cell_type": "code",
      "source": [
        "store_value = add_two_nums(10,20) # Here we'll try to store the value, but this variable alone won't give print."
      ],
      "metadata": {
        "id": "GCNbC8rXCBcO"
      },
      "execution_count": null,
      "outputs": []
    },
    {
      "cell_type": "code",
      "source": [
        "store_value # Now only on calling this variable it will return the stored value"
      ],
      "metadata": {
        "colab": {
          "base_uri": "https://localhost:8080/"
        },
        "id": "s0hkXAAoCBaM",
        "outputId": "bc62049a-c7c3-4570-a733-d40505840e93"
      },
      "execution_count": null,
      "outputs": [
        {
          "output_type": "execute_result",
          "data": {
            "text/plain": [
              "30"
            ]
          },
          "metadata": {},
          "execution_count": 23
        }
      ]
    },
    {
      "cell_type": "markdown",
      "metadata": {
        "id": "99a49e2d"
      },
      "source": [
        "## Key Points about Functions\n",
        "\n",
        "*   **What is a function?** A reusable block of code.\n",
        "*   **Three main components of a function:**\n",
        "    *   Input\n",
        "    *   Logic\n",
        "    *   Output\n",
        "*   **Defining a function:** Use the `def` keyword followed by the function name and parentheses `()`."
      ]
    },
    {
      "cell_type": "code",
      "metadata": {
        "id": "674dc35f"
      },
      "source": [
        "# Assuming function_name is defined elsewhere to take two arguments\n",
        "# For example:\n",
        "# def function_name(parameter1, parameter2):\n",
        "#     print(f\"Parameters: {parameter1}, {parameter2}\")\n",
        "\n",
        "function_name(\"value1\", \"value2\")"
      ],
      "execution_count": null,
      "outputs": []
    },
    {
      "cell_type": "code",
      "metadata": {
        "id": "0400263d"
      },
      "source": [
        "def function_name(parameter1, parameter2):\n",
        "    # statements\n",
        "    pass # Added a pass statement to complete the function definition"
      ],
      "execution_count": null,
      "outputs": []
    },
    {
      "cell_type": "code",
      "metadata": {
        "colab": {
          "base_uri": "https://localhost:8080/"
        },
        "id": "96b2efc7",
        "outputId": "f2ee5bf3-84ce-4af2-8c35-bd7036eb5ac6"
      },
      "source": [
        "def function_name(argument1, argument2):\n",
        "    # This is a placeholder function\n",
        "    print(f\"Function called with arguments: {argument1}, {argument2}\")\n",
        "\n",
        "# Now you can call the function\n",
        "function_name(\"value1\", \"value2\")"
      ],
      "execution_count": null,
      "outputs": [
        {
          "output_type": "stream",
          "name": "stdout",
          "text": [
            "Function called with arguments: value1, value2\n"
          ]
        }
      ]
    },
    {
      "cell_type": "code",
      "metadata": {
        "colab": {
          "base_uri": "https://localhost:8080/",
          "height": 35
        },
        "id": "786215ea",
        "outputId": "c818880e-f9ae-4231-b9ad-6bb254e1e5ce"
      },
      "source": [
        "    variable = \"value\"\n",
        "    f\"This is a string with a {variable}\""
      ],
      "execution_count": null,
      "outputs": [
        {
          "output_type": "execute_result",
          "data": {
            "text/plain": [
              "'This is a string with a value'"
            ],
            "application/vnd.google.colaboratory.intrinsic+json": {
              "type": "string"
            }
          },
          "metadata": {},
          "execution_count": 27
        }
      ]
    },
    {
      "cell_type": "code",
      "metadata": {
        "id": "9f85c77e"
      },
      "source": [
        "    def function_name():\n",
        "        # logic\n",
        "        return value"
      ],
      "execution_count": null,
      "outputs": []
    }
  ]
}